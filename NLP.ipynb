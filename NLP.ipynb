{
  "nbformat": 4,
  "nbformat_minor": 0,
  "metadata": {
    "colab": {
      "name": "NLP.ipynb",
      "provenance": [],
      "collapsed_sections": [],
      "include_colab_link": true
    },
    "kernelspec": {
      "name": "python3",
      "display_name": "Python 3"
    },
    "language_info": {
      "name": "python"
    }
  },
  "cells": [
    {
      "cell_type": "markdown",
      "metadata": {
        "id": "view-in-github",
        "colab_type": "text"
      },
      "source": [
        "<a href=\"https://colab.research.google.com/github/shatakshii25/Python-and-ML-Practice-Notebooks/blob/main/NLP.ipynb\" target=\"_parent\"><img src=\"https://colab.research.google.com/assets/colab-badge.svg\" alt=\"Open In Colab\"/></a>"
      ]
    },
    {
      "cell_type": "code",
      "execution_count": 1,
      "metadata": {
        "id": "nM4XCr_obzOp"
      },
      "outputs": [],
      "source": [
        "s1 = [\"congrats. you have won a lottery of 1 million and you can get the lottery amount by calling the lottery number.\",\n",
        "      \"give your bank details to get your lottery amount in your bank account\",\n",
        "      \"lottery for sure if your bank account details are verififed\"]"
      ]
    },
    {
      "cell_type": "code",
      "source": [
        "s1"
      ],
      "metadata": {
        "colab": {
          "base_uri": "https://localhost:8080/"
        },
        "id": "O4DYyOxonrou",
        "outputId": "88dea677-98f9-44b3-db6b-ac830fc8f27c"
      },
      "execution_count": 2,
      "outputs": [
        {
          "output_type": "execute_result",
          "data": {
            "text/plain": [
              "['congrats. you have won a lottery of 1 million and you can get the lottery amount by calling the lottery number.',\n",
              " 'give your bank details to get your lottery amount in your bank account',\n",
              " 'lottery for sure if your bank account details are verififed']"
            ]
          },
          "metadata": {},
          "execution_count": 2
        }
      ]
    },
    {
      "cell_type": "code",
      "source": [
        "s1[0]"
      ],
      "metadata": {
        "colab": {
          "base_uri": "https://localhost:8080/",
          "height": 36
        },
        "id": "goTzy8HUnr89",
        "outputId": "a44f0f92-64ca-4097-cf92-f25a68c57655"
      },
      "execution_count": 3,
      "outputs": [
        {
          "output_type": "execute_result",
          "data": {
            "text/plain": [
              "'congrats. you have won a lottery of 1 million and you can get the lottery amount by calling the lottery number.'"
            ],
            "application/vnd.google.colaboratory.intrinsic+json": {
              "type": "string"
            }
          },
          "metadata": {},
          "execution_count": 3
        }
      ]
    },
    {
      "cell_type": "code",
      "source": [
        "s1[1]"
      ],
      "metadata": {
        "colab": {
          "base_uri": "https://localhost:8080/",
          "height": 36
        },
        "id": "Xlb2RXbXny9P",
        "outputId": "9010de7f-5538-47b7-87a1-da2017a09a78"
      },
      "execution_count": 4,
      "outputs": [
        {
          "output_type": "execute_result",
          "data": {
            "text/plain": [
              "'give your bank details to get your lottery amount in your bank account'"
            ],
            "application/vnd.google.colaboratory.intrinsic+json": {
              "type": "string"
            }
          },
          "metadata": {},
          "execution_count": 4
        }
      ]
    },
    {
      "cell_type": "code",
      "source": [
        "s1[2]"
      ],
      "metadata": {
        "colab": {
          "base_uri": "https://localhost:8080/",
          "height": 36
        },
        "id": "5-CRrrZznzTC",
        "outputId": "ff1e6d5f-ebd3-4ebf-bcf0-2bd118e76d80"
      },
      "execution_count": 5,
      "outputs": [
        {
          "output_type": "execute_result",
          "data": {
            "text/plain": [
              "'lottery for sure if your bank account details are verififed'"
            ],
            "application/vnd.google.colaboratory.intrinsic+json": {
              "type": "string"
            }
          },
          "metadata": {},
          "execution_count": 5
        }
      ]
    },
    {
      "cell_type": "code",
      "source": [
        "# tokenization - split a sentence into a group of words"
      ],
      "metadata": {
        "id": "6U5XCDo7n56I"
      },
      "execution_count": 6,
      "outputs": []
    },
    {
      "cell_type": "code",
      "source": [
        "s1[0].split() "
      ],
      "metadata": {
        "colab": {
          "base_uri": "https://localhost:8080/"
        },
        "id": "McYIngdNnzqU",
        "outputId": "74ebc66d-3543-4d90-ae75-76c435a78151"
      },
      "execution_count": 7,
      "outputs": [
        {
          "output_type": "execute_result",
          "data": {
            "text/plain": [
              "['congrats.',\n",
              " 'you',\n",
              " 'have',\n",
              " 'won',\n",
              " 'a',\n",
              " 'lottery',\n",
              " 'of',\n",
              " '1',\n",
              " 'million',\n",
              " 'and',\n",
              " 'you',\n",
              " 'can',\n",
              " 'get',\n",
              " 'the',\n",
              " 'lottery',\n",
              " 'amount',\n",
              " 'by',\n",
              " 'calling',\n",
              " 'the',\n",
              " 'lottery',\n",
              " 'number.']"
            ]
          },
          "metadata": {},
          "execution_count": 7
        }
      ]
    },
    {
      "cell_type": "code",
      "source": [
        "s1[1].split()"
      ],
      "metadata": {
        "colab": {
          "base_uri": "https://localhost:8080/"
        },
        "id": "EissEcsFn7Sn",
        "outputId": "8ec2abcc-243d-4103-ce7e-12988e79ee9c"
      },
      "execution_count": 8,
      "outputs": [
        {
          "output_type": "execute_result",
          "data": {
            "text/plain": [
              "['give',\n",
              " 'your',\n",
              " 'bank',\n",
              " 'details',\n",
              " 'to',\n",
              " 'get',\n",
              " 'your',\n",
              " 'lottery',\n",
              " 'amount',\n",
              " 'in',\n",
              " 'your',\n",
              " 'bank',\n",
              " 'account']"
            ]
          },
          "metadata": {},
          "execution_count": 8
        }
      ]
    },
    {
      "cell_type": "code",
      "source": [
        "s1[2].split()"
      ],
      "metadata": {
        "colab": {
          "base_uri": "https://localhost:8080/"
        },
        "id": "i4qqe4min3YW",
        "outputId": "3d5a1310-4462-4751-fde3-9b3d008aba3e"
      },
      "execution_count": 9,
      "outputs": [
        {
          "output_type": "execute_result",
          "data": {
            "text/plain": [
              "['lottery',\n",
              " 'for',\n",
              " 'sure',\n",
              " 'if',\n",
              " 'your',\n",
              " 'bank',\n",
              " 'account',\n",
              " 'details',\n",
              " 'are',\n",
              " 'verififed']"
            ]
          },
          "metadata": {},
          "execution_count": 9
        }
      ]
    },
    {
      "cell_type": "code",
      "source": [
        "# count vectorization / Bag of Words technique\n",
        "from sklearn.feature_extraction.text import CountVectorizer\n",
        "\n",
        "vect = CountVectorizer(stop_words='english')\n",
        "op = vect.fit_transform(s1).toarray()\n",
        "op"
      ],
      "metadata": {
        "colab": {
          "base_uri": "https://localhost:8080/"
        },
        "id": "EMMhTdsSoCGh",
        "outputId": "a6d3ade4-63d9-4829-bb0f-093edb741dff"
      },
      "execution_count": 10,
      "outputs": [
        {
          "output_type": "execute_result",
          "data": {
            "text/plain": [
              "array([[0, 0, 1, 1, 0, 3, 1, 1, 0, 0, 1],\n",
              "       [1, 2, 0, 0, 1, 1, 0, 0, 0, 0, 0],\n",
              "       [1, 1, 0, 0, 1, 1, 0, 0, 1, 1, 0]])"
            ]
          },
          "metadata": {},
          "execution_count": 10
        }
      ]
    },
    {
      "cell_type": "code",
      "source": [
        "import pandas as pd  #displaying data after applying count vectorizer/bow\n",
        "df = pd.DataFrame(op,columns = vect.get_feature_names())\n",
        "df"
      ],
      "metadata": {
        "colab": {
          "base_uri": "https://localhost:8080/",
          "height": 200
        },
        "id": "NMKdC5IvoUN_",
        "outputId": "6df05997-9c1b-4d1b-e2a3-524c8cad6e1e"
      },
      "execution_count": 11,
      "outputs": [
        {
          "output_type": "stream",
          "name": "stderr",
          "text": [
            "/usr/local/lib/python3.7/dist-packages/sklearn/utils/deprecation.py:87: FutureWarning: Function get_feature_names is deprecated; get_feature_names is deprecated in 1.0 and will be removed in 1.2. Please use get_feature_names_out instead.\n",
            "  warnings.warn(msg, category=FutureWarning)\n"
          ]
        },
        {
          "output_type": "execute_result",
          "data": {
            "text/plain": [
              "   account  bank  calling  congrats  details  lottery  million  number  sure  \\\n",
              "0        0     0        1         1        0        3        1       1     0   \n",
              "1        1     2        0         0        1        1        0       0     0   \n",
              "2        1     1        0         0        1        1        0       0     1   \n",
              "\n",
              "   verififed  won  \n",
              "0          0    1  \n",
              "1          0    0  \n",
              "2          1    0  "
            ],
            "text/html": [
              "\n",
              "  <div id=\"df-12e2d1a5-e8a9-4d21-8b9c-adea750e17f2\">\n",
              "    <div class=\"colab-df-container\">\n",
              "      <div>\n",
              "<style scoped>\n",
              "    .dataframe tbody tr th:only-of-type {\n",
              "        vertical-align: middle;\n",
              "    }\n",
              "\n",
              "    .dataframe tbody tr th {\n",
              "        vertical-align: top;\n",
              "    }\n",
              "\n",
              "    .dataframe thead th {\n",
              "        text-align: right;\n",
              "    }\n",
              "</style>\n",
              "<table border=\"1\" class=\"dataframe\">\n",
              "  <thead>\n",
              "    <tr style=\"text-align: right;\">\n",
              "      <th></th>\n",
              "      <th>account</th>\n",
              "      <th>bank</th>\n",
              "      <th>calling</th>\n",
              "      <th>congrats</th>\n",
              "      <th>details</th>\n",
              "      <th>lottery</th>\n",
              "      <th>million</th>\n",
              "      <th>number</th>\n",
              "      <th>sure</th>\n",
              "      <th>verififed</th>\n",
              "      <th>won</th>\n",
              "    </tr>\n",
              "  </thead>\n",
              "  <tbody>\n",
              "    <tr>\n",
              "      <th>0</th>\n",
              "      <td>0</td>\n",
              "      <td>0</td>\n",
              "      <td>1</td>\n",
              "      <td>1</td>\n",
              "      <td>0</td>\n",
              "      <td>3</td>\n",
              "      <td>1</td>\n",
              "      <td>1</td>\n",
              "      <td>0</td>\n",
              "      <td>0</td>\n",
              "      <td>1</td>\n",
              "    </tr>\n",
              "    <tr>\n",
              "      <th>1</th>\n",
              "      <td>1</td>\n",
              "      <td>2</td>\n",
              "      <td>0</td>\n",
              "      <td>0</td>\n",
              "      <td>1</td>\n",
              "      <td>1</td>\n",
              "      <td>0</td>\n",
              "      <td>0</td>\n",
              "      <td>0</td>\n",
              "      <td>0</td>\n",
              "      <td>0</td>\n",
              "    </tr>\n",
              "    <tr>\n",
              "      <th>2</th>\n",
              "      <td>1</td>\n",
              "      <td>1</td>\n",
              "      <td>0</td>\n",
              "      <td>0</td>\n",
              "      <td>1</td>\n",
              "      <td>1</td>\n",
              "      <td>0</td>\n",
              "      <td>0</td>\n",
              "      <td>1</td>\n",
              "      <td>1</td>\n",
              "      <td>0</td>\n",
              "    </tr>\n",
              "  </tbody>\n",
              "</table>\n",
              "</div>\n",
              "      <button class=\"colab-df-convert\" onclick=\"convertToInteractive('df-12e2d1a5-e8a9-4d21-8b9c-adea750e17f2')\"\n",
              "              title=\"Convert this dataframe to an interactive table.\"\n",
              "              style=\"display:none;\">\n",
              "        \n",
              "  <svg xmlns=\"http://www.w3.org/2000/svg\" height=\"24px\"viewBox=\"0 0 24 24\"\n",
              "       width=\"24px\">\n",
              "    <path d=\"M0 0h24v24H0V0z\" fill=\"none\"/>\n",
              "    <path d=\"M18.56 5.44l.94 2.06.94-2.06 2.06-.94-2.06-.94-.94-2.06-.94 2.06-2.06.94zm-11 1L8.5 8.5l.94-2.06 2.06-.94-2.06-.94L8.5 2.5l-.94 2.06-2.06.94zm10 10l.94 2.06.94-2.06 2.06-.94-2.06-.94-.94-2.06-.94 2.06-2.06.94z\"/><path d=\"M17.41 7.96l-1.37-1.37c-.4-.4-.92-.59-1.43-.59-.52 0-1.04.2-1.43.59L10.3 9.45l-7.72 7.72c-.78.78-.78 2.05 0 2.83L4 21.41c.39.39.9.59 1.41.59.51 0 1.02-.2 1.41-.59l7.78-7.78 2.81-2.81c.8-.78.8-2.07 0-2.86zM5.41 20L4 18.59l7.72-7.72 1.47 1.35L5.41 20z\"/>\n",
              "  </svg>\n",
              "      </button>\n",
              "      \n",
              "  <style>\n",
              "    .colab-df-container {\n",
              "      display:flex;\n",
              "      flex-wrap:wrap;\n",
              "      gap: 12px;\n",
              "    }\n",
              "\n",
              "    .colab-df-convert {\n",
              "      background-color: #E8F0FE;\n",
              "      border: none;\n",
              "      border-radius: 50%;\n",
              "      cursor: pointer;\n",
              "      display: none;\n",
              "      fill: #1967D2;\n",
              "      height: 32px;\n",
              "      padding: 0 0 0 0;\n",
              "      width: 32px;\n",
              "    }\n",
              "\n",
              "    .colab-df-convert:hover {\n",
              "      background-color: #E2EBFA;\n",
              "      box-shadow: 0px 1px 2px rgba(60, 64, 67, 0.3), 0px 1px 3px 1px rgba(60, 64, 67, 0.15);\n",
              "      fill: #174EA6;\n",
              "    }\n",
              "\n",
              "    [theme=dark] .colab-df-convert {\n",
              "      background-color: #3B4455;\n",
              "      fill: #D2E3FC;\n",
              "    }\n",
              "\n",
              "    [theme=dark] .colab-df-convert:hover {\n",
              "      background-color: #434B5C;\n",
              "      box-shadow: 0px 1px 3px 1px rgba(0, 0, 0, 0.15);\n",
              "      filter: drop-shadow(0px 1px 2px rgba(0, 0, 0, 0.3));\n",
              "      fill: #FFFFFF;\n",
              "    }\n",
              "  </style>\n",
              "\n",
              "      <script>\n",
              "        const buttonEl =\n",
              "          document.querySelector('#df-12e2d1a5-e8a9-4d21-8b9c-adea750e17f2 button.colab-df-convert');\n",
              "        buttonEl.style.display =\n",
              "          google.colab.kernel.accessAllowed ? 'block' : 'none';\n",
              "\n",
              "        async function convertToInteractive(key) {\n",
              "          const element = document.querySelector('#df-12e2d1a5-e8a9-4d21-8b9c-adea750e17f2');\n",
              "          const dataTable =\n",
              "            await google.colab.kernel.invokeFunction('convertToInteractive',\n",
              "                                                     [key], {});\n",
              "          if (!dataTable) return;\n",
              "\n",
              "          const docLinkHtml = 'Like what you see? Visit the ' +\n",
              "            '<a target=\"_blank\" href=https://colab.research.google.com/notebooks/data_table.ipynb>data table notebook</a>'\n",
              "            + ' to learn more about interactive tables.';\n",
              "          element.innerHTML = '';\n",
              "          dataTable['output_type'] = 'display_data';\n",
              "          await google.colab.output.renderOutput(dataTable, element);\n",
              "          const docLink = document.createElement('div');\n",
              "          docLink.innerHTML = docLinkHtml;\n",
              "          element.appendChild(docLink);\n",
              "        }\n",
              "      </script>\n",
              "    </div>\n",
              "  </div>\n",
              "  "
            ]
          },
          "metadata": {},
          "execution_count": 11
        }
      ]
    },
    {
      "cell_type": "code",
      "source": [
        "import pandas as pd"
      ],
      "metadata": {
        "id": "x8abrIGJpAZT"
      },
      "execution_count": 12,
      "outputs": []
    },
    {
      "cell_type": "code",
      "source": [
        "# SPAM HAM DATASET \n",
        "df = pd.read_table(\"https://raw.githubusercontent.com/arib168/data/main/spam.tsv\")\n",
        "df"
      ],
      "metadata": {
        "colab": {
          "base_uri": "https://localhost:8080/",
          "height": 424
        },
        "id": "2cdjpw6NpNr6",
        "outputId": "c7274261-596f-467e-9f39-20eb4f2a04c4"
      },
      "execution_count": 13,
      "outputs": [
        {
          "output_type": "execute_result",
          "data": {
            "text/plain": [
              "     label                                            message  length  punct\n",
              "0      ham  Go until jurong point, crazy.. Available only ...     111      9\n",
              "1      ham                      Ok lar... Joking wif u oni...      29      6\n",
              "2     spam  Free entry in 2 a wkly comp to win FA Cup fina...     155      6\n",
              "3      ham  U dun say so early hor... U c already then say...      49      6\n",
              "4      ham  Nah I don't think he goes to usf, he lives aro...      61      2\n",
              "...    ...                                                ...     ...    ...\n",
              "5567  spam  This is the 2nd time we have tried 2 contact u...     160      8\n",
              "5568   ham               Will ü b going to esplanade fr home?      36      1\n",
              "5569   ham  Pity, * was in mood for that. So...any other s...      57      7\n",
              "5570   ham  The guy did some bitching but I acted like i'd...     125      1\n",
              "5571   ham                         Rofl. Its true to its name      26      1\n",
              "\n",
              "[5572 rows x 4 columns]"
            ],
            "text/html": [
              "\n",
              "  <div id=\"df-5d5a76d0-a5d4-44e2-adc5-9554aad9ba53\">\n",
              "    <div class=\"colab-df-container\">\n",
              "      <div>\n",
              "<style scoped>\n",
              "    .dataframe tbody tr th:only-of-type {\n",
              "        vertical-align: middle;\n",
              "    }\n",
              "\n",
              "    .dataframe tbody tr th {\n",
              "        vertical-align: top;\n",
              "    }\n",
              "\n",
              "    .dataframe thead th {\n",
              "        text-align: right;\n",
              "    }\n",
              "</style>\n",
              "<table border=\"1\" class=\"dataframe\">\n",
              "  <thead>\n",
              "    <tr style=\"text-align: right;\">\n",
              "      <th></th>\n",
              "      <th>label</th>\n",
              "      <th>message</th>\n",
              "      <th>length</th>\n",
              "      <th>punct</th>\n",
              "    </tr>\n",
              "  </thead>\n",
              "  <tbody>\n",
              "    <tr>\n",
              "      <th>0</th>\n",
              "      <td>ham</td>\n",
              "      <td>Go until jurong point, crazy.. Available only ...</td>\n",
              "      <td>111</td>\n",
              "      <td>9</td>\n",
              "    </tr>\n",
              "    <tr>\n",
              "      <th>1</th>\n",
              "      <td>ham</td>\n",
              "      <td>Ok lar... Joking wif u oni...</td>\n",
              "      <td>29</td>\n",
              "      <td>6</td>\n",
              "    </tr>\n",
              "    <tr>\n",
              "      <th>2</th>\n",
              "      <td>spam</td>\n",
              "      <td>Free entry in 2 a wkly comp to win FA Cup fina...</td>\n",
              "      <td>155</td>\n",
              "      <td>6</td>\n",
              "    </tr>\n",
              "    <tr>\n",
              "      <th>3</th>\n",
              "      <td>ham</td>\n",
              "      <td>U dun say so early hor... U c already then say...</td>\n",
              "      <td>49</td>\n",
              "      <td>6</td>\n",
              "    </tr>\n",
              "    <tr>\n",
              "      <th>4</th>\n",
              "      <td>ham</td>\n",
              "      <td>Nah I don't think he goes to usf, he lives aro...</td>\n",
              "      <td>61</td>\n",
              "      <td>2</td>\n",
              "    </tr>\n",
              "    <tr>\n",
              "      <th>...</th>\n",
              "      <td>...</td>\n",
              "      <td>...</td>\n",
              "      <td>...</td>\n",
              "      <td>...</td>\n",
              "    </tr>\n",
              "    <tr>\n",
              "      <th>5567</th>\n",
              "      <td>spam</td>\n",
              "      <td>This is the 2nd time we have tried 2 contact u...</td>\n",
              "      <td>160</td>\n",
              "      <td>8</td>\n",
              "    </tr>\n",
              "    <tr>\n",
              "      <th>5568</th>\n",
              "      <td>ham</td>\n",
              "      <td>Will ü b going to esplanade fr home?</td>\n",
              "      <td>36</td>\n",
              "      <td>1</td>\n",
              "    </tr>\n",
              "    <tr>\n",
              "      <th>5569</th>\n",
              "      <td>ham</td>\n",
              "      <td>Pity, * was in mood for that. So...any other s...</td>\n",
              "      <td>57</td>\n",
              "      <td>7</td>\n",
              "    </tr>\n",
              "    <tr>\n",
              "      <th>5570</th>\n",
              "      <td>ham</td>\n",
              "      <td>The guy did some bitching but I acted like i'd...</td>\n",
              "      <td>125</td>\n",
              "      <td>1</td>\n",
              "    </tr>\n",
              "    <tr>\n",
              "      <th>5571</th>\n",
              "      <td>ham</td>\n",
              "      <td>Rofl. Its true to its name</td>\n",
              "      <td>26</td>\n",
              "      <td>1</td>\n",
              "    </tr>\n",
              "  </tbody>\n",
              "</table>\n",
              "<p>5572 rows × 4 columns</p>\n",
              "</div>\n",
              "      <button class=\"colab-df-convert\" onclick=\"convertToInteractive('df-5d5a76d0-a5d4-44e2-adc5-9554aad9ba53')\"\n",
              "              title=\"Convert this dataframe to an interactive table.\"\n",
              "              style=\"display:none;\">\n",
              "        \n",
              "  <svg xmlns=\"http://www.w3.org/2000/svg\" height=\"24px\"viewBox=\"0 0 24 24\"\n",
              "       width=\"24px\">\n",
              "    <path d=\"M0 0h24v24H0V0z\" fill=\"none\"/>\n",
              "    <path d=\"M18.56 5.44l.94 2.06.94-2.06 2.06-.94-2.06-.94-.94-2.06-.94 2.06-2.06.94zm-11 1L8.5 8.5l.94-2.06 2.06-.94-2.06-.94L8.5 2.5l-.94 2.06-2.06.94zm10 10l.94 2.06.94-2.06 2.06-.94-2.06-.94-.94-2.06-.94 2.06-2.06.94z\"/><path d=\"M17.41 7.96l-1.37-1.37c-.4-.4-.92-.59-1.43-.59-.52 0-1.04.2-1.43.59L10.3 9.45l-7.72 7.72c-.78.78-.78 2.05 0 2.83L4 21.41c.39.39.9.59 1.41.59.51 0 1.02-.2 1.41-.59l7.78-7.78 2.81-2.81c.8-.78.8-2.07 0-2.86zM5.41 20L4 18.59l7.72-7.72 1.47 1.35L5.41 20z\"/>\n",
              "  </svg>\n",
              "      </button>\n",
              "      \n",
              "  <style>\n",
              "    .colab-df-container {\n",
              "      display:flex;\n",
              "      flex-wrap:wrap;\n",
              "      gap: 12px;\n",
              "    }\n",
              "\n",
              "    .colab-df-convert {\n",
              "      background-color: #E8F0FE;\n",
              "      border: none;\n",
              "      border-radius: 50%;\n",
              "      cursor: pointer;\n",
              "      display: none;\n",
              "      fill: #1967D2;\n",
              "      height: 32px;\n",
              "      padding: 0 0 0 0;\n",
              "      width: 32px;\n",
              "    }\n",
              "\n",
              "    .colab-df-convert:hover {\n",
              "      background-color: #E2EBFA;\n",
              "      box-shadow: 0px 1px 2px rgba(60, 64, 67, 0.3), 0px 1px 3px 1px rgba(60, 64, 67, 0.15);\n",
              "      fill: #174EA6;\n",
              "    }\n",
              "\n",
              "    [theme=dark] .colab-df-convert {\n",
              "      background-color: #3B4455;\n",
              "      fill: #D2E3FC;\n",
              "    }\n",
              "\n",
              "    [theme=dark] .colab-df-convert:hover {\n",
              "      background-color: #434B5C;\n",
              "      box-shadow: 0px 1px 3px 1px rgba(0, 0, 0, 0.15);\n",
              "      filter: drop-shadow(0px 1px 2px rgba(0, 0, 0, 0.3));\n",
              "      fill: #FFFFFF;\n",
              "    }\n",
              "  </style>\n",
              "\n",
              "      <script>\n",
              "        const buttonEl =\n",
              "          document.querySelector('#df-5d5a76d0-a5d4-44e2-adc5-9554aad9ba53 button.colab-df-convert');\n",
              "        buttonEl.style.display =\n",
              "          google.colab.kernel.accessAllowed ? 'block' : 'none';\n",
              "\n",
              "        async function convertToInteractive(key) {\n",
              "          const element = document.querySelector('#df-5d5a76d0-a5d4-44e2-adc5-9554aad9ba53');\n",
              "          const dataTable =\n",
              "            await google.colab.kernel.invokeFunction('convertToInteractive',\n",
              "                                                     [key], {});\n",
              "          if (!dataTable) return;\n",
              "\n",
              "          const docLinkHtml = 'Like what you see? Visit the ' +\n",
              "            '<a target=\"_blank\" href=https://colab.research.google.com/notebooks/data_table.ipynb>data table notebook</a>'\n",
              "            + ' to learn more about interactive tables.';\n",
              "          element.innerHTML = '';\n",
              "          dataTable['output_type'] = 'display_data';\n",
              "          await google.colab.output.renderOutput(dataTable, element);\n",
              "          const docLink = document.createElement('div');\n",
              "          docLink.innerHTML = docLinkHtml;\n",
              "          element.appendChild(docLink);\n",
              "        }\n",
              "      </script>\n",
              "    </div>\n",
              "  </div>\n",
              "  "
            ]
          },
          "metadata": {},
          "execution_count": 13
        }
      ]
    },
    {
      "cell_type": "code",
      "source": [
        "df['message'][2]"
      ],
      "metadata": {
        "colab": {
          "base_uri": "https://localhost:8080/",
          "height": 36
        },
        "id": "G0h8Xvc0pXte",
        "outputId": "c3d34760-ab88-4030-e38d-836110d0aa7d"
      },
      "execution_count": 14,
      "outputs": [
        {
          "output_type": "execute_result",
          "data": {
            "text/plain": [
              "\"Free entry in 2 a wkly comp to win FA Cup final tkts 21st May 2005. Text FA to 87121 to receive entry question(std txt rate)T&C's apply 08452810075over18's\""
            ],
            "application/vnd.google.colaboratory.intrinsic+json": {
              "type": "string"
            }
          },
          "metadata": {},
          "execution_count": 14
        }
      ]
    },
    {
      "cell_type": "code",
      "source": [
        "df['label'][2]"
      ],
      "metadata": {
        "colab": {
          "base_uri": "https://localhost:8080/",
          "height": 36
        },
        "id": "GYlVSAfGpfnj",
        "outputId": "7fba74f1-788c-4ba7-b601-13c4d193e9f7"
      },
      "execution_count": 15,
      "outputs": [
        {
          "output_type": "execute_result",
          "data": {
            "text/plain": [
              "'spam'"
            ],
            "application/vnd.google.colaboratory.intrinsic+json": {
              "type": "string"
            }
          },
          "metadata": {},
          "execution_count": 15
        }
      ]
    },
    {
      "cell_type": "code",
      "source": [
        "# is the dataset balanced or imbalanced?\n",
        "# balanced - metric accuracy is sufficient \n",
        "# imbalanced - metrics (accuracy,recall,precision,f1-score)\n",
        "df['label'].value_counts()\n",
        "\n",
        "#dataset is imbalanced "
      ],
      "metadata": {
        "colab": {
          "base_uri": "https://localhost:8080/"
        },
        "id": "s-QrJ2I1pp-4",
        "outputId": "b73a3acb-1d2f-429b-c757-441312644b13"
      },
      "execution_count": 16,
      "outputs": [
        {
          "output_type": "execute_result",
          "data": {
            "text/plain": [
              "ham     4825\n",
              "spam     747\n",
              "Name: label, dtype: int64"
            ]
          },
          "metadata": {},
          "execution_count": 16
        }
      ]
    },
    {
      "cell_type": "code",
      "source": [
        "# create a machine learning algorithm to predict if the entered message is spam or ham?"
      ],
      "metadata": {
        "id": "Cfv3rnXiqHm8"
      },
      "execution_count": 17,
      "outputs": []
    },
    {
      "cell_type": "code",
      "source": [
        "x = df['message'].values #choose the input \n",
        "y = df['label'].values   #choose the output "
      ],
      "metadata": {
        "id": "g502r_teqUxY"
      },
      "execution_count": 18,
      "outputs": []
    },
    {
      "cell_type": "code",
      "source": [
        "from sklearn.model_selection import train_test_split \n",
        "x_train,x_test,y_train,y_test = train_test_split(x,y,random_state=0)"
      ],
      "metadata": {
        "id": "NOVji0p5qbAf"
      },
      "execution_count": 19,
      "outputs": []
    },
    {
      "cell_type": "code",
      "source": [
        "# apply count vectorizer and then apply svm or naive bayes "
      ],
      "metadata": {
        "id": "2kZbpFyJqlHq"
      },
      "execution_count": 20,
      "outputs": []
    },
    {
      "cell_type": "code",
      "source": [
        "#step1 - apply count vectorizer for the input data \n",
        "\n",
        "from sklearn.feature_extraction.text import CountVectorizer\n",
        "vect = CountVectorizer(stop_words = 'english')\n",
        "\n",
        "x_train_vect = vect.fit_transform(x_train)\n",
        "x_test_vect = vect.transform(x_test)"
      ],
      "metadata": {
        "id": "TLM7jvo6s_RA"
      },
      "execution_count": 21,
      "outputs": []
    },
    {
      "cell_type": "markdown",
      "source": [
        "**USING SUPPORT VECTOR MACHINES**"
      ],
      "metadata": {
        "id": "ho3QozL3tkd3"
      }
    },
    {
      "cell_type": "code",
      "source": [
        "# use the svc model classifier\n",
        "\n",
        "from sklearn.svm import SVC \n",
        "model1 = SVC() "
      ],
      "metadata": {
        "id": "6pK1Sq8XtUG2"
      },
      "execution_count": 22,
      "outputs": []
    },
    {
      "cell_type": "code",
      "source": [
        "model1.fit(x_train_vect,y_train)"
      ],
      "metadata": {
        "colab": {
          "base_uri": "https://localhost:8080/"
        },
        "id": "e_aFxhmLtvyR",
        "outputId": "7e20ecd3-bf38-453f-ed8b-e6c68fa7bd1e"
      },
      "execution_count": 23,
      "outputs": [
        {
          "output_type": "execute_result",
          "data": {
            "text/plain": [
              "SVC()"
            ]
          },
          "metadata": {},
          "execution_count": 23
        }
      ]
    },
    {
      "cell_type": "code",
      "source": [
        "y_pred1 = model1.predict(x_test_vect)\n",
        "y_pred1"
      ],
      "metadata": {
        "colab": {
          "base_uri": "https://localhost:8080/"
        },
        "id": "oXBjJjimtyJQ",
        "outputId": "3695d9cf-75e5-4c3f-d23b-de19910451eb"
      },
      "execution_count": 24,
      "outputs": [
        {
          "output_type": "execute_result",
          "data": {
            "text/plain": [
              "array(['ham', 'spam', 'ham', ..., 'ham', 'ham', 'ham'], dtype=object)"
            ]
          },
          "metadata": {},
          "execution_count": 24
        }
      ]
    },
    {
      "cell_type": "code",
      "source": [
        "y_test"
      ],
      "metadata": {
        "colab": {
          "base_uri": "https://localhost:8080/"
        },
        "id": "3guS7ga1t0yF",
        "outputId": "406b307d-dc7a-4426-e7be-0bf40cab1ebc"
      },
      "execution_count": 25,
      "outputs": [
        {
          "output_type": "execute_result",
          "data": {
            "text/plain": [
              "array(['ham', 'spam', 'ham', ..., 'spam', 'ham', 'ham'], dtype=object)"
            ]
          },
          "metadata": {},
          "execution_count": 25
        }
      ]
    },
    {
      "cell_type": "code",
      "source": [
        "from sklearn.metrics import accuracy_score\n",
        "accuracy_score(y_pred1,y_test)"
      ],
      "metadata": {
        "colab": {
          "base_uri": "https://localhost:8080/"
        },
        "id": "sTQ7L_7Tt2Kp",
        "outputId": "188ccfe9-4ce9-40d6-ee70-dd3265232a96"
      },
      "execution_count": 26,
      "outputs": [
        {
          "output_type": "execute_result",
          "data": {
            "text/plain": [
              "0.9813352476669059"
            ]
          },
          "metadata": {},
          "execution_count": 26
        }
      ]
    },
    {
      "cell_type": "code",
      "source": [
        "data = [\"let's go out this weekend\"]\n",
        "data = vect.transform(data) "
      ],
      "metadata": {
        "id": "tvbhBab8vsbh"
      },
      "execution_count": 27,
      "outputs": []
    },
    {
      "cell_type": "code",
      "source": [
        "model1.predict(data)"
      ],
      "metadata": {
        "colab": {
          "base_uri": "https://localhost:8080/"
        },
        "id": "Q9BNbsgNvf6i",
        "outputId": "73ae610f-ce35-40c6-9b25-ddca3deccc5e"
      },
      "execution_count": 28,
      "outputs": [
        {
          "output_type": "execute_result",
          "data": {
            "text/plain": [
              "array(['ham'], dtype=object)"
            ]
          },
          "metadata": {},
          "execution_count": 28
        }
      ]
    },
    {
      "cell_type": "code",
      "source": [
        "# PIPELINE MODEL USING COUNT VECTORIZER AND SVC \n",
        "# pipeline - The purpose of the pipeline is to assemble several steps that can be cross-validated together while setting different parameters.\n",
        "# Pipeline can be used to chain multiple estimators into one. \n",
        "\n",
        "# pipelines remove the problem of having to apply the transformation(count vecotrizer) everytime before predicting the output of the data"
      ],
      "metadata": {
        "id": "mUpjFojIu_JT"
      },
      "execution_count": 29,
      "outputs": []
    },
    {
      "cell_type": "markdown",
      "source": [
        "**USING SKLEARN PIPELINE FOR (COUNTVECTORIZER+SVC)**"
      ],
      "metadata": {
        "id": "tjrjbAiswaFx"
      }
    },
    {
      "cell_type": "code",
      "source": [
        "from sklearn.pipeline import make_pipeline\n",
        "model2 = make_pipeline(CountVectorizer(),SVC())\n",
        "\n",
        "model2.fit(x_train,y_train)\n",
        "y_pred2 = model2.predict(x_test)\n",
        "y_pred2"
      ],
      "metadata": {
        "colab": {
          "base_uri": "https://localhost:8080/"
        },
        "id": "DS6dS39TwYxH",
        "outputId": "0a71eed2-2887-478e-df9c-ad50e2030df9"
      },
      "execution_count": 30,
      "outputs": [
        {
          "output_type": "execute_result",
          "data": {
            "text/plain": [
              "array(['ham', 'spam', 'ham', ..., 'ham', 'ham', 'ham'], dtype=object)"
            ]
          },
          "metadata": {},
          "execution_count": 30
        }
      ]
    },
    {
      "cell_type": "code",
      "source": [
        "from sklearn.metrics import accuracy_score\n",
        "accuracy_score(y_pred2,y_test)"
      ],
      "metadata": {
        "colab": {
          "base_uri": "https://localhost:8080/"
        },
        "id": "QzSdcMTPxQyF",
        "outputId": "a60865f5-1803-41ef-d3e9-1c656de6225e"
      },
      "execution_count": 31,
      "outputs": [
        {
          "output_type": "execute_result",
          "data": {
            "text/plain": [
              "0.9834888729361091"
            ]
          },
          "metadata": {},
          "execution_count": 31
        }
      ]
    },
    {
      "cell_type": "code",
      "source": [
        "model2.predict([\"let's go out this weekend\"]) #without countvectorizer, pipeline model predicts the output "
      ],
      "metadata": {
        "colab": {
          "base_uri": "https://localhost:8080/"
        },
        "id": "vg211yAwxXWL",
        "outputId": "88d3c7a2-a457-4023-dc62-1e01b93fbe5a"
      },
      "execution_count": 32,
      "outputs": [
        {
          "output_type": "execute_result",
          "data": {
            "text/plain": [
              "array(['ham'], dtype=object)"
            ]
          },
          "metadata": {},
          "execution_count": 32
        }
      ]
    },
    {
      "cell_type": "markdown",
      "source": [
        "**USING NAIVE BAYES CLASSIFIER**"
      ],
      "metadata": {
        "id": "TkoNpIimuIBB"
      }
    },
    {
      "cell_type": "code",
      "source": [
        "from sklearn.naive_bayes import MultinomialNB\n",
        "model3 = MultinomialNB()"
      ],
      "metadata": {
        "id": "lxAeCux7uHXU"
      },
      "execution_count": 33,
      "outputs": []
    },
    {
      "cell_type": "code",
      "source": [
        "model3.fit(x_train_vect,y_train)"
      ],
      "metadata": {
        "colab": {
          "base_uri": "https://localhost:8080/"
        },
        "id": "7f4ncJwKuCgv",
        "outputId": "75d5c090-65e8-4821-8e71-56d1b6ac1394"
      },
      "execution_count": 34,
      "outputs": [
        {
          "output_type": "execute_result",
          "data": {
            "text/plain": [
              "MultinomialNB()"
            ]
          },
          "metadata": {},
          "execution_count": 34
        }
      ]
    },
    {
      "cell_type": "code",
      "source": [
        "y_pred3 = model3.predict(x_test_vect)\n",
        "y_pred3 "
      ],
      "metadata": {
        "colab": {
          "base_uri": "https://localhost:8080/"
        },
        "id": "p6qNDglhuoAs",
        "outputId": "fc08679e-5374-4790-e47b-b04aa507d124"
      },
      "execution_count": 35,
      "outputs": [
        {
          "output_type": "execute_result",
          "data": {
            "text/plain": [
              "array(['ham', 'spam', 'ham', ..., 'spam', 'ham', 'ham'], dtype='<U4')"
            ]
          },
          "metadata": {},
          "execution_count": 35
        }
      ]
    },
    {
      "cell_type": "code",
      "source": [
        "y_test"
      ],
      "metadata": {
        "colab": {
          "base_uri": "https://localhost:8080/"
        },
        "id": "cmA4tAP2usn0",
        "outputId": "c665eb37-3def-496a-b33a-f6ec573c5c75"
      },
      "execution_count": 36,
      "outputs": [
        {
          "output_type": "execute_result",
          "data": {
            "text/plain": [
              "array(['ham', 'spam', 'ham', ..., 'spam', 'ham', 'ham'], dtype=object)"
            ]
          },
          "metadata": {},
          "execution_count": 36
        }
      ]
    },
    {
      "cell_type": "code",
      "source": [
        "from sklearn.metrics import accuracy_score\n",
        "accuracy_score(y_pred3,y_test)"
      ],
      "metadata": {
        "colab": {
          "base_uri": "https://localhost:8080/"
        },
        "id": "1lLKu-BtuuEK",
        "outputId": "3bd9835d-717d-4b41-ce90-bfe7a68c3a23"
      },
      "execution_count": 37,
      "outputs": [
        {
          "output_type": "execute_result",
          "data": {
            "text/plain": [
              "0.9863603732950467"
            ]
          },
          "metadata": {},
          "execution_count": 37
        }
      ]
    },
    {
      "cell_type": "code",
      "source": [
        "# vectorization step before predicting is compulsory without a pipeline\n",
        "data = [\"win absolutely free tickets to the football game\"]\n",
        "data = vect.transform(data) "
      ],
      "metadata": {
        "id": "U7QDTqXTxwXN"
      },
      "execution_count": 38,
      "outputs": []
    },
    {
      "cell_type": "code",
      "source": [
        "model3.predict(data)"
      ],
      "metadata": {
        "colab": {
          "base_uri": "https://localhost:8080/"
        },
        "outputId": "b7e08730-effd-4ef3-ed1e-37caf1336a46",
        "id": "u8ZJiz82xwXO"
      },
      "execution_count": 39,
      "outputs": [
        {
          "output_type": "execute_result",
          "data": {
            "text/plain": [
              "array(['spam'], dtype='<U4')"
            ]
          },
          "metadata": {},
          "execution_count": 39
        }
      ]
    },
    {
      "cell_type": "markdown",
      "source": [
        "**USE SKLEARN PIPELINE FOR COUNTVECTORIZER()+MULTINOMIALNB()**"
      ],
      "metadata": {
        "id": "_DMAdhnoyDi7"
      }
    },
    {
      "cell_type": "code",
      "source": [
        "from sklearn.pipeline import make_pipeline \n",
        "model4 = make_pipeline(CountVectorizer(),MultinomialNB())\n",
        "\n",
        "model4.fit(x_train,y_train)\n",
        "y_pred4 = model4.predict(x_test)\n",
        "y_pred4"
      ],
      "metadata": {
        "colab": {
          "base_uri": "https://localhost:8080/"
        },
        "id": "2a-lENO_x2W7",
        "outputId": "2e468a1a-54b0-46d7-d000-8129b783235a"
      },
      "execution_count": 40,
      "outputs": [
        {
          "output_type": "execute_result",
          "data": {
            "text/plain": [
              "array(['ham', 'spam', 'ham', ..., 'spam', 'ham', 'ham'], dtype='<U4')"
            ]
          },
          "metadata": {},
          "execution_count": 40
        }
      ]
    },
    {
      "cell_type": "code",
      "source": [
        "from sklearn.metrics import accuracy_score\n",
        "accuracy_score(y_pred4,y_test)"
      ],
      "metadata": {
        "colab": {
          "base_uri": "https://localhost:8080/"
        },
        "id": "AW8g5rETy4BF",
        "outputId": "c74de6fe-6082-4f8c-af6d-dfd29258e6b0"
      },
      "execution_count": 41,
      "outputs": [
        {
          "output_type": "execute_result",
          "data": {
            "text/plain": [
              "0.9885139985642498"
            ]
          },
          "metadata": {},
          "execution_count": 41
        }
      ]
    },
    {
      "cell_type": "code",
      "source": [
        "# model1 accuracy - 0.9813352476669059\n",
        "# model2 accuracy - 0.9834888729361091\n",
        "# model3 accuracy - 0.9863603732950467\n",
        "# model4 accuracy - 0.9885139985642498 "
      ],
      "metadata": {
        "id": "UiFdFZf9y618"
      },
      "execution_count": 42,
      "outputs": []
    },
    {
      "cell_type": "code",
      "source": [
        "#using the best model with highest accuracy to create a joblib file (joblib-similar to pickle)(model persistence)\n",
        "# joblib is used for pipeline models"
      ],
      "metadata": {
        "id": "YYEaIfKozPjI"
      },
      "execution_count": 43,
      "outputs": []
    },
    {
      "cell_type": "code",
      "source": [
        "import joblib\n",
        "joblib.dump(model4,'spam-ham')"
      ],
      "metadata": {
        "colab": {
          "base_uri": "https://localhost:8080/"
        },
        "id": "IDn112Cuzb3V",
        "outputId": "f40cdf68-642f-44b3-db2b-c593c368aa6d"
      },
      "execution_count": 44,
      "outputs": [
        {
          "output_type": "execute_result",
          "data": {
            "text/plain": [
              "['spam-ham']"
            ]
          },
          "metadata": {},
          "execution_count": 44
        }
      ]
    },
    {
      "cell_type": "code",
      "source": [
        "# reload the model \n",
        "\n",
        "reloaded_model = joblib.load('spam-ham')\n",
        "reloaded_model"
      ],
      "metadata": {
        "colab": {
          "base_uri": "https://localhost:8080/"
        },
        "id": "-Lp8C7bQzhiP",
        "outputId": "eaad09db-854a-4d06-f076-ed7b06d5e5ee"
      },
      "execution_count": 45,
      "outputs": [
        {
          "output_type": "execute_result",
          "data": {
            "text/plain": [
              "Pipeline(steps=[('countvectorizer', CountVectorizer()),\n",
              "                ('multinomialnb', MultinomialNB())])"
            ]
          },
          "metadata": {},
          "execution_count": 45
        }
      ]
    },
    {
      "cell_type": "code",
      "source": [
        "#prediction using the reloaded model \n",
        "\n",
        "reloaded_model.predict([\"Free entry to the mall\"])"
      ],
      "metadata": {
        "colab": {
          "base_uri": "https://localhost:8080/"
        },
        "id": "uLRY4tfszspd",
        "outputId": "faee74b0-998e-41b3-cef8-449334253af3"
      },
      "execution_count": 46,
      "outputs": [
        {
          "output_type": "execute_result",
          "data": {
            "text/plain": [
              "array(['spam'], dtype='<U4')"
            ]
          },
          "metadata": {},
          "execution_count": 46
        }
      ]
    },
    {
      "cell_type": "code",
      "source": [
        "# WEBAPP CREATION USING STREAMLIT \n",
        "# download the spam-ham joblib file and keep it "
      ],
      "metadata": {
        "id": "Ghltiwevzx3s"
      },
      "execution_count": 47,
      "outputs": []
    },
    {
      "cell_type": "code",
      "source": [
        "!pip install streamlit --quiet\n",
        "#after installing , if it says restart runtime / if it gives an error for tornado.ioloop , then restart the runtime\n",
        "# after restarting the runtime, run this cell once more (total 2 times)"
      ],
      "metadata": {
        "id": "IR40CcGzjH1F",
        "outputId": "0de91049-26d8-44de-ecb2-edf7f24e9efc",
        "colab": {
          "base_uri": "https://localhost:8080/"
        }
      },
      "execution_count": 48,
      "outputs": [
        {
          "output_type": "stream",
          "name": "stdout",
          "text": [
            "\u001b[K     |████████████████████████████████| 9.1 MB 14.9 MB/s \n",
            "\u001b[K     |████████████████████████████████| 164 kB 61.9 MB/s \n",
            "\u001b[K     |████████████████████████████████| 181 kB 67.1 MB/s \n",
            "\u001b[K     |████████████████████████████████| 235 kB 66.3 MB/s \n",
            "\u001b[K     |████████████████████████████████| 78 kB 1.8 MB/s \n",
            "\u001b[K     |████████████████████████████████| 4.3 MB 21.6 MB/s \n",
            "\u001b[K     |████████████████████████████████| 63 kB 1.7 MB/s \n",
            "\u001b[K     |████████████████████████████████| 132 kB 67.9 MB/s \n",
            "\u001b[K     |████████████████████████████████| 423 kB 19.5 MB/s \n",
            "\u001b[K     |████████████████████████████████| 793 kB 65.2 MB/s \n",
            "\u001b[K     |████████████████████████████████| 132 kB 64.1 MB/s \n",
            "\u001b[K     |████████████████████████████████| 381 kB 71.0 MB/s \n",
            "\u001b[K     |████████████████████████████████| 51 kB 6.2 MB/s \n",
            "\u001b[?25h  Building wheel for validators (setup.py) ... \u001b[?25l\u001b[?25hdone\n",
            "\u001b[31mERROR: pip's dependency resolver does not currently take into account all the packages that are installed. This behaviour is the source of the following dependency conflicts.\n",
            "nbclient 0.6.6 requires traitlets>=5.2.2, but you have traitlets 5.1.1 which is incompatible.\n",
            "jupyter-console 5.2.0 requires prompt-toolkit<2.0.0,>=1.0.0, but you have prompt-toolkit 3.0.30 which is incompatible.\n",
            "google-colab 1.0.0 requires ipykernel~=4.10, but you have ipykernel 6.15.1 which is incompatible.\n",
            "google-colab 1.0.0 requires ipython~=5.5.0, but you have ipython 7.34.0 which is incompatible.\n",
            "google-colab 1.0.0 requires tornado~=5.1.0, but you have tornado 6.2 which is incompatible.\u001b[0m\n"
          ]
        }
      ]
    },
    {
      "cell_type": "code",
      "source": [
        "%%writefile app.py \n",
        "\n",
        "#import the libraries\n",
        "import streamlit as st \n",
        "import joblib \n",
        "\n",
        "#Add the title \n",
        "st.title(\"Spam Ham classification\")\n",
        "\n",
        "# load the joblib model \n",
        "reloaded_model = joblib.load('spam-ham')\n",
        "\n",
        "# give the user input for doing the prediction\n",
        "input1 = st.text_input(\"Enter the message :\")\n",
        "\n",
        "# use the joblib reloaded model to predict the output as spam or ham \n",
        "output1 = reloaded_model.predict([input1])\n",
        "\n",
        "\n",
        "# if the PREDICT button is pressed, then give the output in the webapp \n",
        "if st.button(\"PREDICT\"):   \n",
        "  st.title([output1[0]])"
      ],
      "metadata": {
        "colab": {
          "base_uri": "https://localhost:8080/"
        },
        "id": "0O76pcIVjJty",
        "outputId": "a5cc1af9-2b50-4575-938e-54da641f85e4"
      },
      "execution_count": 49,
      "outputs": [
        {
          "output_type": "stream",
          "name": "stdout",
          "text": [
            "Writing app.py\n"
          ]
        }
      ]
    },
    {
      "cell_type": "markdown",
      "source": [
        "**THIS IMAGE IS JUST A DEMO REFERENCE**\n",
        "\n",
        "![image.png](data:image/png;base64,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)"
      ],
      "metadata": {
        "id": "ZEek8Va4k6Nr"
      }
    },
    {
      "cell_type": "code",
      "source": [
        "#run the streamlit webapp \n",
        "!streamlit run app.py  & npx localtunnel --port 8501"
      ],
      "metadata": {
        "colab": {
          "base_uri": "https://localhost:8080/"
        },
        "id": "726VhnIpksm3",
        "outputId": "ad9f114f-cbf0-4b00-e2b0-2a673cc16e5b"
      },
      "execution_count": null,
      "outputs": [
        {
          "output_type": "stream",
          "name": "stdout",
          "text": [
            "2022-08-10 15:49:44.357 INFO    numexpr.utils: NumExpr defaulting to 2 threads.\n",
            "\u001b[0m\n",
            "\u001b[34m\u001b[1m  You can now view your Streamlit app in your browser.\u001b[0m\n",
            "\u001b[0m\n",
            "\u001b[34m  Network URL: \u001b[0m\u001b[1mhttp://172.28.0.2:8501\u001b[0m\n",
            "\u001b[34m  External URL: \u001b[0m\u001b[1mhttp://35.204.199.192:8501\u001b[0m\n",
            "\u001b[0m\n",
            "\u001b[K\u001b[?25hnpx: installed 22 in 3.986s\n",
            "your url is: https://petite-hats-follow-35-204-199-192.loca.lt\n"
          ]
        }
      ]
    },
    {
      "cell_type": "code",
      "source": [
        "# your url is: http://rotten-beers-ring-34-83-194-246.loca.lt\n",
        "# open this type of link \n",
        "# and then click on continue button"
      ],
      "metadata": {
        "id": "6w1gjEWCkziA"
      },
      "execution_count": null,
      "outputs": []
    },
    {
      "cell_type": "code",
      "source": [
        "# if there is any error in the app, come back to colab , stop this cell, \n",
        "# then edit the code and re run both the cells and then open the newly generated link\n",
        "\n",
        "# refer to this code to change output from 0 and 1 to Positive and negative \n",
        "\n",
        "# op = ['Positive','Negative']\n",
        "# st.title(op[y_pred[0]]) "
      ],
      "metadata": {
        "id": "RI_75ltylglA"
      },
      "execution_count": null,
      "outputs": []
    }
  ]
}