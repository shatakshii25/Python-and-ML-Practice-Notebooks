{
  "nbformat": 4,
  "nbformat_minor": 0,
  "metadata": {
    "colab": {
      "name": "class2.ipynb",
      "provenance": [],
      "collapsed_sections": [],
      "authorship_tag": "ABX9TyNrObr7eeqY2XmMOlbMfqnm",
      "include_colab_link": true
    },
    "kernelspec": {
      "name": "python3",
      "display_name": "Python 3"
    },
    "language_info": {
      "name": "python"
    }
  },
  "cells": [
    {
      "cell_type": "markdown",
      "metadata": {
        "id": "view-in-github",
        "colab_type": "text"
      },
      "source": [
        "<a href=\"https://colab.research.google.com/github/shatakshii25/Python-and-ML-Practice-Notebooks/blob/main/class2.ipynb\" target=\"_parent\"><img src=\"https://colab.research.google.com/assets/colab-badge.svg\" alt=\"Open In Colab\"/></a>"
      ]
    },
    {
      "cell_type": "code",
      "execution_count": null,
      "metadata": {
        "colab": {
          "base_uri": "https://localhost:8080/"
        },
        "id": "OXR34j2UlpUD",
        "outputId": "6c38fb2c-1626-4e1a-db2c-5b6a3afb77a7"
      },
      "outputs": [
        {
          "name": "stdout",
          "output_type": "stream",
          "text": [
            "Enter 1st number :8\n",
            "Enter 2nd number :2\n"
          ]
        }
      ],
      "source": [
        "a = input(\"Enter 1st number :\")\n",
        "b = input(\"Enter 2nd number :\")"
      ]
    },
    {
      "cell_type": "code",
      "source": [
        "a+b"
      ],
      "metadata": {
        "colab": {
          "base_uri": "https://localhost:8080/",
          "height": 36
        },
        "id": "Pcwjj7ZOmKMh",
        "outputId": "e9954c30-c610-4a89-a2a4-0f77375ab111"
      },
      "execution_count": null,
      "outputs": [
        {
          "output_type": "execute_result",
          "data": {
            "text/plain": [
              "'82'"
            ],
            "application/vnd.google.colaboratory.intrinsic+json": {
              "type": "string"
            }
          },
          "metadata": {},
          "execution_count": 3
        }
      ]
    },
    {
      "cell_type": "code",
      "source": [
        "a = int(input(\"Enter 1st number:\"))\n",
        "b = int(input(\"Enter 2nd number:\"))"
      ],
      "metadata": {
        "colab": {
          "base_uri": "https://localhost:8080/"
        },
        "id": "4I0OASNPmLit",
        "outputId": "40d3f084-b4da-4e25-e24a-cec5dcea3949"
      },
      "execution_count": null,
      "outputs": [
        {
          "name": "stdout",
          "output_type": "stream",
          "text": [
            "Enter 1st number:5\n",
            "Enter 2nd number:2\n"
          ]
        }
      ]
    },
    {
      "cell_type": "code",
      "source": [
        "a+b"
      ],
      "metadata": {
        "colab": {
          "base_uri": "https://localhost:8080/"
        },
        "id": "-9EPIqDdmVZF",
        "outputId": "20551f1f-db10-442a-a43f-bf643f9a3e33"
      },
      "execution_count": null,
      "outputs": [
        {
          "output_type": "execute_result",
          "data": {
            "text/plain": [
              "7"
            ]
          },
          "metadata": {},
          "execution_count": 5
        }
      ]
    },
    {
      "cell_type": "code",
      "source": [
        "a*b"
      ],
      "metadata": {
        "colab": {
          "base_uri": "https://localhost:8080/"
        },
        "id": "vZkv9WdemXe-",
        "outputId": "1324991e-7e19-4015-f6cc-523535097ad2"
      },
      "execution_count": null,
      "outputs": [
        {
          "output_type": "execute_result",
          "data": {
            "text/plain": [
              "10"
            ]
          },
          "metadata": {},
          "execution_count": 6
        }
      ]
    },
    {
      "cell_type": "code",
      "source": [
        "a = 10\n",
        "b = 20\n",
        "a<b"
      ],
      "metadata": {
        "colab": {
          "base_uri": "https://localhost:8080/"
        },
        "id": "11c6Nuk4mmaR",
        "outputId": "b3e947c9-53d1-4fb9-bfa7-80925806692d"
      },
      "execution_count": null,
      "outputs": [
        {
          "output_type": "execute_result",
          "data": {
            "text/plain": [
              "True"
            ]
          },
          "metadata": {},
          "execution_count": 9
        }
      ]
    },
    {
      "cell_type": "code",
      "source": [
        "a>b"
      ],
      "metadata": {
        "colab": {
          "base_uri": "https://localhost:8080/"
        },
        "id": "K0H3lqd1mrUg",
        "outputId": "53e7a7de-8315-4900-8f0f-4620b06b7551"
      },
      "execution_count": null,
      "outputs": [
        {
          "output_type": "execute_result",
          "data": {
            "text/plain": [
              "False"
            ]
          },
          "metadata": {},
          "execution_count": 10
        }
      ]
    },
    {
      "cell_type": "code",
      "source": [
        "# check if the two variables are same are not\n",
        "a == b"
      ],
      "metadata": {
        "colab": {
          "base_uri": "https://localhost:8080/"
        },
        "id": "78bSz09Im48O",
        "outputId": "2cbe9bd5-a070-4738-e5c8-f96c29f41ff3"
      },
      "execution_count": null,
      "outputs": [
        {
          "output_type": "execute_result",
          "data": {
            "text/plain": [
              "False"
            ]
          },
          "metadata": {},
          "execution_count": 11
        }
      ]
    },
    {
      "cell_type": "code",
      "source": [
        "a!=b"
      ],
      "metadata": {
        "colab": {
          "base_uri": "https://localhost:8080/"
        },
        "id": "1MXMGL-qm6-D",
        "outputId": "5145562d-0a19-4052-b9e8-4f695f110503"
      },
      "execution_count": null,
      "outputs": [
        {
          "output_type": "execute_result",
          "data": {
            "text/plain": [
              "True"
            ]
          },
          "metadata": {},
          "execution_count": 12
        }
      ]
    },
    {
      "cell_type": "code",
      "source": [
        "a*b"
      ],
      "metadata": {
        "colab": {
          "base_uri": "https://localhost:8080/"
        },
        "id": "S83dKK0_najj",
        "outputId": "8c09a572-6589-408f-d8a6-d10fe263205d"
      },
      "execution_count": null,
      "outputs": [
        {
          "output_type": "execute_result",
          "data": {
            "text/plain": [
              "200"
            ]
          },
          "metadata": {},
          "execution_count": 13
        }
      ]
    },
    {
      "cell_type": "code",
      "source": [
        "a = \"hello world\"\n",
        "type(a)"
      ],
      "metadata": {
        "colab": {
          "base_uri": "https://localhost:8080/"
        },
        "id": "pmoFV9GpnyVo",
        "outputId": "bedf5544-f5b4-40c9-8f75-59e0d223b83a"
      },
      "execution_count": null,
      "outputs": [
        {
          "output_type": "execute_result",
          "data": {
            "text/plain": [
              "str"
            ]
          },
          "metadata": {},
          "execution_count": 14
        }
      ]
    },
    {
      "cell_type": "code",
      "source": [
        "# raw string\n",
        "# formatted string"
      ],
      "metadata": {
        "id": "w3XxT4sQn8m9"
      },
      "execution_count": null,
      "outputs": []
    },
    {
      "cell_type": "code",
      "source": [
        "print(\"C:\\Users\\Shatakshi Shree\\OneDrive\\Desktop\\Web Dev\\BlackJack Game\")"
      ],
      "metadata": {
        "colab": {
          "base_uri": "https://localhost:8080/",
          "height": 148
        },
        "id": "g_7G_9AGprgK",
        "outputId": "722be59c-3d21-44ad-dd8e-707d2c577212"
      },
      "execution_count": null,
      "outputs": [
        {
          "output_type": "error",
          "ename": "SyntaxError",
          "evalue": "ignored",
          "traceback": [
            "\u001b[0;36m  File \u001b[0;32m\"<ipython-input-17-a7d7bd7f6cd0>\"\u001b[0;36m, line \u001b[0;32m1\u001b[0m\n\u001b[0;31m    print(\"C:\\Users\\Shatakshi Shree\\OneDrive\\Desktop\\Web Dev\\BlackJack Game\")\u001b[0m\n\u001b[0m         ^\u001b[0m\n\u001b[0;31mSyntaxError\u001b[0m\u001b[0;31m:\u001b[0m (unicode error) 'unicodeescape' codec can't decode bytes in position 2-3: truncated \\UXXXXXXXX escape\n"
          ]
        }
      ]
    },
    {
      "cell_type": "code",
      "source": [
        "print(r\"C:\\Users\\Shatakshi Shree\\OneDrive\\Desktop\\Web Dev\\BlackJack Game\")"
      ],
      "metadata": {
        "colab": {
          "base_uri": "https://localhost:8080/"
        },
        "id": "TolNzf0opvn_",
        "outputId": "24325c1a-ee92-4fea-d37a-51223082231d"
      },
      "execution_count": null,
      "outputs": [
        {
          "output_type": "stream",
          "name": "stdout",
          "text": [
            "C:\\Users\\Shatakshi Shree\\OneDrive\\Desktop\\Web Dev\\BlackJack Game\n"
          ]
        }
      ]
    },
    {
      "cell_type": "code",
      "source": [
        "# \\n - new line\n",
        "# \\t - tab space\n",
        "# \\b - backspace\n",
        "# \\a - emoji (?)\n",
        "# ESCAPE SEQUENCES"
      ],
      "metadata": {
        "id": "q0LHAfFQoC-6"
      },
      "execution_count": null,
      "outputs": []
    },
    {
      "cell_type": "code",
      "source": [
        "# FORMATTED STRINGS -refer to the value present inside the variable\n",
        "a = int(input(\"enter 1st number: \"))\n",
        "b = int(input(\"enter 2nd number: \"))"
      ],
      "metadata": {
        "colab": {
          "base_uri": "https://localhost:8080/"
        },
        "id": "r9lPsfQ3pt2E",
        "outputId": "469b975b-dd9c-4197-8727-ea9347756aa0"
      },
      "execution_count": null,
      "outputs": [
        {
          "name": "stdout",
          "output_type": "stream",
          "text": [
            "enter 1st number: 4\n",
            "enter 2nd number: 2\n"
          ]
        }
      ]
    },
    {
      "cell_type": "code",
      "source": [
        "print(\"addition = \", a+b)\n",
        "print(\"subtraction = \", a-b)\n",
        "print(\"mulitplication = \", a*b)\n",
        "print(\"division = \", a/b)\n",
        "print(\"modulus = \", a%b)\n",
        "print(\"floor division = \", a//b)\n",
        "print(\"a power b = \", a**b)"
      ],
      "metadata": {
        "colab": {
          "base_uri": "https://localhost:8080/"
        },
        "id": "VVdQDqVoqn1M",
        "outputId": "9867433f-0cd5-4644-fb2f-502ea2f7bce2"
      },
      "execution_count": null,
      "outputs": [
        {
          "output_type": "stream",
          "name": "stdout",
          "text": [
            "addition =  6\n",
            "subtraction =  2\n",
            "mulitplication =  8\n",
            "division =  2.0\n",
            "modulus =  0\n",
            "floor division =  2\n",
            "a power b =  16\n"
          ]
        }
      ]
    },
    {
      "cell_type": "code",
      "source": [
        "print(f\"addition of a and b = \", a+b)\n",
        "print(f\"subtraction of a and b = \", a-b)\n",
        "print(f\"mulitplication of a and b = \", a*b)\n",
        "\n",
        "print(\"division of {a} and {b}  = \", a/b)\n",
        "print(\"modulus of {a} and {b} = \", a%b)\n",
        "\n",
        "print(f\"floor division = {a} and {b}\", a//b)\n",
        "print(f\"{a} power {b} = \", a**b)"
      ],
      "metadata": {
        "colab": {
          "base_uri": "https://localhost:8080/"
        },
        "id": "jw07uTdUrBZZ",
        "outputId": "55d47ee6-d87e-4097-a37c-40d85a9cc532"
      },
      "execution_count": null,
      "outputs": [
        {
          "output_type": "stream",
          "name": "stdout",
          "text": [
            "addition of a and b =  6\n",
            "subtraction of a and b =  2\n",
            "mulitplication of a and b =  8\n",
            "division of {a} and {b}  =  2.0\n",
            "modulus of {a} and {b} =  0\n",
            "floor division = 4 and 2 2\n",
            "4 power 2 =  16\n"
          ]
        }
      ]
    },
    {
      "cell_type": "code",
      "source": [
        "# square of a number\n",
        "a = int(input(\"enter the number :\"))\n",
        "square = a*a\n",
        "sq = a**2"
      ],
      "metadata": {
        "colab": {
          "base_uri": "https://localhost:8080/"
        },
        "id": "ERvth8SRsEpC",
        "outputId": "d892d738-9aff-495a-c34a-340ab65dc712"
      },
      "execution_count": null,
      "outputs": [
        {
          "name": "stdout",
          "output_type": "stream",
          "text": [
            "enter the number :5\n"
          ]
        }
      ]
    },
    {
      "cell_type": "code",
      "source": [
        "square\n",
        "sq"
      ],
      "metadata": {
        "colab": {
          "base_uri": "https://localhost:8080/"
        },
        "id": "aAkW83G0sj2G",
        "outputId": "30d8c017-65c1-459b-831e-788495c41772"
      },
      "execution_count": null,
      "outputs": [
        {
          "output_type": "execute_result",
          "data": {
            "text/plain": [
              "25"
            ]
          },
          "metadata": {},
          "execution_count": 27
        }
      ]
    },
    {
      "cell_type": "code",
      "source": [
        "print(f\"square of {a} is\", sq)"
      ],
      "metadata": {
        "colab": {
          "base_uri": "https://localhost:8080/"
        },
        "id": "AHyX_1N1smuI",
        "outputId": "df8bd30e-07b4-4c02-e31c-560ad5206996"
      },
      "execution_count": null,
      "outputs": [
        {
          "output_type": "stream",
          "name": "stdout",
          "text": [
            "square of 5 is 25\n"
          ]
        }
      ]
    },
    {
      "cell_type": "code",
      "source": [
        "print(f\"square of {a} is\", square)"
      ],
      "metadata": {
        "colab": {
          "base_uri": "https://localhost:8080/"
        },
        "id": "HpCIbG0zssoa",
        "outputId": "6b820f46-e736-4758-828e-fd86e1be6b43"
      },
      "execution_count": null,
      "outputs": [
        {
          "output_type": "stream",
          "name": "stdout",
          "text": [
            "square of 5 is 25\n"
          ]
        }
      ]
    },
    {
      "cell_type": "code",
      "source": [
        "# square of a number\n",
        "a = int(input(\"enter the number :\"))\n",
        "squareRoot = a**(1/2)\n",
        "squareRoot"
      ],
      "metadata": {
        "colab": {
          "base_uri": "https://localhost:8080/"
        },
        "id": "MnTlpu2DuaO1",
        "outputId": "f6055fae-e9d2-4290-bff0-e48cd2739a85"
      },
      "execution_count": null,
      "outputs": [
        {
          "name": "stdout",
          "output_type": "stream",
          "text": [
            "enter the number :5\n"
          ]
        },
        {
          "output_type": "execute_result",
          "data": {
            "text/plain": [
              "2.23606797749979"
            ]
          },
          "metadata": {},
          "execution_count": 36
        }
      ]
    },
    {
      "cell_type": "code",
      "source": [
        "# control statements (if, else, if-else)"
      ],
      "metadata": {
        "id": "ebv0cp5hs0lY"
      },
      "execution_count": null,
      "outputs": []
    },
    {
      "cell_type": "code",
      "source": [
        "# indentation - adding space before a line or a paragraph \n",
        "# Python IDE - 4 spaces or 1 tab space (default indent)\n",
        "# Python notebooks - 2 spcaes or 1 tab space (default indent)\n",
        "a = int(input(\"enter the number you want to check \"))\n",
        "if a<10:\n",
        "  print(f\"{a} is less than 10\")\n",
        "if a>10:\n",
        "  print(f\"{a} is greater than 10\")\n",
        "if a==10:\n",
        "  print(f\"{a} is equal to 10\")"
      ],
      "metadata": {
        "colab": {
          "base_uri": "https://localhost:8080/"
        },
        "id": "CjPoiW3Ds789",
        "outputId": "c9a6fe07-57fa-4039-db0b-eba852ce98a6"
      },
      "execution_count": null,
      "outputs": [
        {
          "output_type": "stream",
          "name": "stdout",
          "text": [
            "enter the number you want to check 10\n",
            "10 is equal to 10\n"
          ]
        }
      ]
    },
    {
      "cell_type": "code",
      "source": [
        "a = int(input(\"enter the number you want to check \"))\n",
        "if a%2!=0:\n",
        "  print(f\"{a} is odd\")\n",
        "else:\n",
        "  print(f\"{a} is even\")"
      ],
      "metadata": {
        "colab": {
          "base_uri": "https://localhost:8080/"
        },
        "id": "BIQ6t2Wftn1U",
        "outputId": "e6f9e76c-bfe9-492b-a473-a56f3211b118"
      },
      "execution_count": null,
      "outputs": [
        {
          "output_type": "stream",
          "name": "stdout",
          "text": [
            "enter the number you want to check 5\n",
            "5 is odd\n"
          ]
        }
      ]
    },
    {
      "cell_type": "code",
      "source": [
        "# write a program to check which number is largest out of the 3 numbers and print the largest number\n",
        "a = int(input(\"enter 1st number: \"))\n",
        "b = int(input(\"enter 2nd number: \"))\n",
        "c = int(input(\"enter 3rd number: \"))\n",
        "if a>b and b>c:\n",
        "  print(f\"{a} is the largest\")\n",
        "if b>a and b>c:\n",
        "  print(f\"{b} is the largest\")\n",
        "if c>a and c>b:\n",
        "  print(f\"{c} is the largest\")"
      ],
      "metadata": {
        "colab": {
          "base_uri": "https://localhost:8080/"
        },
        "id": "zT1JFVMvv12G",
        "outputId": "cdb88069-21c8-4246-e3a0-c345dfe86395"
      },
      "execution_count": null,
      "outputs": [
        {
          "output_type": "stream",
          "name": "stdout",
          "text": [
            "enter 1st number: 5\n",
            "enter 2nd number: 6\n",
            "enter 3rd number: 7\n",
            "7 is the largest\n"
          ]
        }
      ]
    },
    {
      "cell_type": "code",
      "source": [
        ""
      ],
      "metadata": {
        "id": "nG9LhDstw_SF"
      },
      "execution_count": null,
      "outputs": []
    }
  ]
}