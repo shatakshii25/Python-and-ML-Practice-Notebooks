{
  "nbformat": 4,
  "nbformat_minor": 0,
  "metadata": {
    "colab": {
      "name": "class5.ipynb",
      "provenance": [],
      "collapsed_sections": [],
      "authorship_tag": "ABX9TyPVgEYMJNP6tB28fXWnU+n7",
      "include_colab_link": true
    },
    "kernelspec": {
      "name": "python3",
      "display_name": "Python 3"
    },
    "language_info": {
      "name": "python"
    }
  },
  "cells": [
    {
      "cell_type": "markdown",
      "metadata": {
        "id": "view-in-github",
        "colab_type": "text"
      },
      "source": [
        "<a href=\"https://colab.research.google.com/github/shatakshii25/Python-and-ML-Practice-Notebooks/blob/main/class5.ipynb\" target=\"_parent\"><img src=\"https://colab.research.google.com/assets/colab-badge.svg\" alt=\"Open In Colab\"/></a>"
      ]
    },
    {
      "cell_type": "code",
      "execution_count": null,
      "metadata": {
        "id": "LSqC-8B-PPrS"
      },
      "outputs": [],
      "source": [
        "# # DICTIONARY - key value pair \n",
        "#   represented by flower brackets/curly brackets {}\n",
        "#   separated by commas, key value pair is separated by colon(:)  key:value \n",
        "#   SYNATX => a = {key:value, key:value, key:value...}\n",
        "#   MUTABLE, thus we can add or remove elements from a DICTIONARY\n",
        "#   does NOT suuport indexing/slicing \n",
        "#   keys in dictionary need not be a number always, can be text also"
      ]
    },
    {
      "cell_type": "code",
      "source": [
        "# EMPTY DICTIONARY\n",
        "# d = {}\n",
        "d = dict()\n",
        "type(d)"
      ],
      "metadata": {
        "colab": {
          "base_uri": "https://localhost:8080/"
        },
        "id": "RBsEauQ9RDpU",
        "outputId": "722094ae-09e7-422f-b8dc-d3e659d8af25"
      },
      "execution_count": null,
      "outputs": [
        {
          "output_type": "execute_result",
          "data": {
            "text/plain": [
              "dict"
            ]
          },
          "metadata": {},
          "execution_count": 9
        }
      ]
    },
    {
      "cell_type": "code",
      "source": [
        "data = {1:\"python\", 2:\"java\", 3:\"c++\"}\n",
        "data"
      ],
      "metadata": {
        "colab": {
          "base_uri": "https://localhost:8080/"
        },
        "id": "IUbPNHNRRLZv",
        "outputId": "3041ca1f-9aec-4269-801d-22282eeb0241"
      },
      "execution_count": null,
      "outputs": [
        {
          "output_type": "execute_result",
          "data": {
            "text/plain": [
              "{1: 'python', 2: 'java', 3: 'c++'}"
            ]
          },
          "metadata": {},
          "execution_count": 10
        }
      ]
    },
    {
      "cell_type": "code",
      "source": [
        "type(data)"
      ],
      "metadata": {
        "colab": {
          "base_uri": "https://localhost:8080/"
        },
        "id": "nybJ66qoRTOP",
        "outputId": "bbb227ed-e9e8-4006-e46b-847e06648665"
      },
      "execution_count": null,
      "outputs": [
        {
          "output_type": "execute_result",
          "data": {
            "text/plain": [
              "dict"
            ]
          },
          "metadata": {},
          "execution_count": 11
        }
      ]
    },
    {
      "cell_type": "code",
      "source": [
        "# to access/fetch elements from a dictionary using a key\n",
        "data[1]"
      ],
      "metadata": {
        "colab": {
          "base_uri": "https://localhost:8080/",
          "height": 36
        },
        "id": "cFJ1LDejRVBR",
        "outputId": "c1bbbed0-939e-45be-a0c0-20d231c0a955"
      },
      "execution_count": null,
      "outputs": [
        {
          "output_type": "execute_result",
          "data": {
            "text/plain": [
              "'python'"
            ],
            "application/vnd.google.colaboratory.intrinsic+json": {
              "type": "string"
            }
          },
          "metadata": {},
          "execution_count": 12
        }
      ]
    },
    {
      "cell_type": "code",
      "source": [
        "data[0] #key error cuz here we have to ALWAYS GIVE THE KEY TO ACCESS THE VALUE PRESENT INSIDE IT"
      ],
      "metadata": {
        "colab": {
          "base_uri": "https://localhost:8080/",
          "height": 189
        },
        "id": "99xumus0Rfgj",
        "outputId": "1ab21c94-6928-4cd4-ab67-c639b0e7f89c"
      },
      "execution_count": null,
      "outputs": [
        {
          "output_type": "error",
          "ename": "KeyError",
          "evalue": "ignored",
          "traceback": [
            "\u001b[0;31m---------------------------------------------------------------------------\u001b[0m",
            "\u001b[0;31mKeyError\u001b[0m                                  Traceback (most recent call last)",
            "\u001b[0;32m<ipython-input-13-619b1078d643>\u001b[0m in \u001b[0;36m<module>\u001b[0;34m()\u001b[0m\n\u001b[0;32m----> 1\u001b[0;31m \u001b[0mdata\u001b[0m\u001b[0;34m[\u001b[0m\u001b[0;36m0\u001b[0m\u001b[0;34m]\u001b[0m \u001b[0;31m#key error cuz here we have to ALWAYS GIVE THE KEY TO ACCESS THE VALUE PRESENT INSIDE IT\u001b[0m\u001b[0;34m\u001b[0m\u001b[0;34m\u001b[0m\u001b[0m\n\u001b[0m",
            "\u001b[0;31mKeyError\u001b[0m: 0"
          ]
        }
      ]
    },
    {
      "cell_type": "code",
      "source": [
        "data[5]"
      ],
      "metadata": {
        "colab": {
          "base_uri": "https://localhost:8080/",
          "height": 171
        },
        "id": "3DIRW2P9USeV",
        "outputId": "0d78806e-d091-4407-fe77-ebf37cc9a067"
      },
      "execution_count": null,
      "outputs": [
        {
          "output_type": "error",
          "ename": "KeyError",
          "evalue": "ignored",
          "traceback": [
            "\u001b[0;31m---------------------------------------------------------------------------\u001b[0m",
            "\u001b[0;31mKeyError\u001b[0m                                  Traceback (most recent call last)",
            "\u001b[0;32m<ipython-input-14-d8911f6d5e4a>\u001b[0m in \u001b[0;36m<module>\u001b[0;34m()\u001b[0m\n\u001b[0;32m----> 1\u001b[0;31m \u001b[0mdata\u001b[0m\u001b[0;34m[\u001b[0m\u001b[0;36m5\u001b[0m\u001b[0;34m]\u001b[0m\u001b[0;34m\u001b[0m\u001b[0;34m\u001b[0m\u001b[0m\n\u001b[0m",
            "\u001b[0;31mKeyError\u001b[0m: 5"
          ]
        }
      ]
    },
    {
      "cell_type": "code",
      "source": [
        "data[3]"
      ],
      "metadata": {
        "colab": {
          "base_uri": "https://localhost:8080/",
          "height": 36
        },
        "id": "8qw9CboJRxPB",
        "outputId": "4e74501d-a121-488b-80a7-7a4e71aaf7a3"
      },
      "execution_count": null,
      "outputs": [
        {
          "output_type": "execute_result",
          "data": {
            "text/plain": [
              "'c++'"
            ],
            "application/vnd.google.colaboratory.intrinsic+json": {
              "type": "string"
            }
          },
          "metadata": {},
          "execution_count": 15
        }
      ]
    },
    {
      "cell_type": "code",
      "source": [
        "data[2]"
      ],
      "metadata": {
        "colab": {
          "base_uri": "https://localhost:8080/",
          "height": 36
        },
        "id": "L4DrSIpDRyZ3",
        "outputId": "f0a6e94d-365d-4dfd-db89-837199959d68"
      },
      "execution_count": null,
      "outputs": [
        {
          "output_type": "execute_result",
          "data": {
            "text/plain": [
              "'java'"
            ],
            "application/vnd.google.colaboratory.intrinsic+json": {
              "type": "string"
            }
          },
          "metadata": {},
          "execution_count": 16
        }
      ]
    },
    {
      "cell_type": "code",
      "source": [
        "data.get(2) # return the valuee for key if key is in the dictionary, else it will return DEFAULT STATEMENT"
      ],
      "metadata": {
        "colab": {
          "base_uri": "https://localhost:8080/",
          "height": 36
        },
        "id": "zDfRdbg_RzR_",
        "outputId": "d74c81ce-e4ff-4714-85d1-5be859c91564"
      },
      "execution_count": null,
      "outputs": [
        {
          "output_type": "execute_result",
          "data": {
            "text/plain": [
              "'java'"
            ],
            "application/vnd.google.colaboratory.intrinsic+json": {
              "type": "string"
            }
          },
          "metadata": {},
          "execution_count": 17
        }
      ]
    },
    {
      "cell_type": "code",
      "source": [
        "data.get(2, \"key not found\")"
      ],
      "metadata": {
        "colab": {
          "base_uri": "https://localhost:8080/",
          "height": 36
        },
        "id": "Iml_CEASR9V9",
        "outputId": "4d3e71f2-3b37-482b-8edc-d481a3a149c1"
      },
      "execution_count": null,
      "outputs": [
        {
          "output_type": "execute_result",
          "data": {
            "text/plain": [
              "'java'"
            ],
            "application/vnd.google.colaboratory.intrinsic+json": {
              "type": "string"
            }
          },
          "metadata": {},
          "execution_count": 18
        }
      ]
    },
    {
      "cell_type": "code",
      "source": [
        "data.get(3, \"key not found\")"
      ],
      "metadata": {
        "colab": {
          "base_uri": "https://localhost:8080/",
          "height": 36
        },
        "id": "WfOFRbPVSDyf",
        "outputId": "2bf96512-4eff-40b2-dc90-d7804911d849"
      },
      "execution_count": null,
      "outputs": [
        {
          "output_type": "execute_result",
          "data": {
            "text/plain": [
              "'c++'"
            ],
            "application/vnd.google.colaboratory.intrinsic+json": {
              "type": "string"
            }
          },
          "metadata": {},
          "execution_count": 19
        }
      ]
    },
    {
      "cell_type": "code",
      "source": [
        "data.get(5, \"key not found\")"
      ],
      "metadata": {
        "colab": {
          "base_uri": "https://localhost:8080/",
          "height": 36
        },
        "id": "D0DuqNq5SF-t",
        "outputId": "8e3d3af0-3fa4-4b5a-8e97-bbc37ab33ac8"
      },
      "execution_count": null,
      "outputs": [
        {
          "output_type": "execute_result",
          "data": {
            "text/plain": [
              "'key not found'"
            ],
            "application/vnd.google.colaboratory.intrinsic+json": {
              "type": "string"
            }
          },
          "metadata": {},
          "execution_count": 20
        }
      ]
    },
    {
      "cell_type": "code",
      "source": [
        "data.get(0, \"key not found\")"
      ],
      "metadata": {
        "colab": {
          "base_uri": "https://localhost:8080/",
          "height": 36
        },
        "id": "jXS8K_R3SIU4",
        "outputId": "46c42664-3475-4658-e84b-2e8938e74777"
      },
      "execution_count": null,
      "outputs": [
        {
          "output_type": "execute_result",
          "data": {
            "text/plain": [
              "'key not found'"
            ],
            "application/vnd.google.colaboratory.intrinsic+json": {
              "type": "string"
            }
          },
          "metadata": {},
          "execution_count": 21
        }
      ]
    },
    {
      "cell_type": "code",
      "source": [
        "cse = {1:\"AAA\", 88:\"BBB\", 32:\"CCC\", 4:\"DDD\"} #we can save the roll number along with names of the students in dictionary\n",
        "cse[4] # we here try to fetch the name of the student whose roll number is 4"
      ],
      "metadata": {
        "colab": {
          "base_uri": "https://localhost:8080/",
          "height": 36
        },
        "id": "dICBxMpuSJfd",
        "outputId": "c497415d-ab3a-464e-9a10-6bf1de56f309"
      },
      "execution_count": null,
      "outputs": [
        {
          "output_type": "execute_result",
          "data": {
            "text/plain": [
              "'DDD'"
            ],
            "application/vnd.google.colaboratory.intrinsic+json": {
              "type": "string"
            }
          },
          "metadata": {},
          "execution_count": 22
        }
      ]
    },
    {
      "cell_type": "code",
      "source": [
        "# To add elements into a dictionary, suppose we want to have key=5 to have value of \"EEE\"\n",
        "cse[5] = \"EEE\"\n",
        "cse"
      ],
      "metadata": {
        "colab": {
          "base_uri": "https://localhost:8080/"
        },
        "id": "rh6fp54IWUGh",
        "outputId": "165e3ce3-9900-433e-e10e-a594ad70c7d0"
      },
      "execution_count": null,
      "outputs": [
        {
          "output_type": "execute_result",
          "data": {
            "text/plain": [
              "{1: 'AAA', 4: 'DDD', 5: 'EEE', 32: 'CCC', 88: 'BBB'}"
            ]
          },
          "metadata": {},
          "execution_count": 30
        }
      ]
    },
    {
      "cell_type": "code",
      "source": [
        "# To delete a key:value pair from a dictionary we use DEL\n",
        "del cse[32]\n",
        "cse"
      ],
      "metadata": {
        "colab": {
          "base_uri": "https://localhost:8080/"
        },
        "id": "hKf92pP0Wjx6",
        "outputId": "b950a5b7-dcd4-489b-9d92-adce66f0d62f"
      },
      "execution_count": null,
      "outputs": [
        {
          "output_type": "execute_result",
          "data": {
            "text/plain": [
              "{1: 'AAA', 4: 'DDD', 5: 'EEE', 88: 'BBB'}"
            ]
          },
          "metadata": {},
          "execution_count": 32
        }
      ]
    },
    {
      "cell_type": "code",
      "source": [
        "cse[88] #we can shuffle the order, no need to put roll numbers in order"
      ],
      "metadata": {
        "colab": {
          "base_uri": "https://localhost:8080/",
          "height": 36
        },
        "id": "GjTQBKbCSgPl",
        "outputId": "7728f090-1d56-436b-c2b1-7d996a7958a7"
      },
      "execution_count": null,
      "outputs": [
        {
          "output_type": "execute_result",
          "data": {
            "text/plain": [
              "'BBB'"
            ],
            "application/vnd.google.colaboratory.intrinsic+json": {
              "type": "string"
            }
          },
          "metadata": {},
          "execution_count": 23
        }
      ]
    },
    {
      "cell_type": "code",
      "source": [
        "cse.clear() #clears all the key:value pairs from the dictionary"
      ],
      "metadata": {
        "id": "Qe-utpLoWwB5"
      },
      "execution_count": null,
      "outputs": []
    },
    {
      "cell_type": "code",
      "source": [
        "cse #returns an empty dictionary"
      ],
      "metadata": {
        "colab": {
          "base_uri": "https://localhost:8080/"
        },
        "id": "thS1L1m3W3uC",
        "outputId": "06deb71c-eec2-4d7f-e1b4-3e36bc930eef"
      },
      "execution_count": null,
      "outputs": [
        {
          "output_type": "execute_result",
          "data": {
            "text/plain": [
              "{}"
            ]
          },
          "metadata": {},
          "execution_count": 34
        }
      ]
    },
    {
      "cell_type": "code",
      "source": [
        "clg1 = {'cse':['AAA', 'BBB', 'CCC', 'DDD', 'EEE'], 'ece':['aa', 'bb', 'cc', 'dd', 'ee']}\n",
        "clg1"
      ],
      "metadata": {
        "colab": {
          "base_uri": "https://localhost:8080/"
        },
        "id": "ED8WnCo_S9Nu",
        "outputId": "91cc84ac-3811-45ce-dfbc-b3f38be9da96"
      },
      "execution_count": null,
      "outputs": [
        {
          "output_type": "execute_result",
          "data": {
            "text/plain": [
              "{'cse': ['AAA', 'BBB', 'CCC', 'DDD', 'EEE'],\n",
              " 'ece': ['aa', 'bb', 'cc', 'dd', 'ee']}"
            ]
          },
          "metadata": {},
          "execution_count": 24
        }
      ]
    },
    {
      "cell_type": "code",
      "source": [
        "clg2 = {'cse':['AAA', 'BBB', 'CCC', 'DDD', 'EEE'], 'cse':['aa', 'bb', 'cc', 'dd', 'ee']}\n",
        "clg2 #cse gets overwritten"
      ],
      "metadata": {
        "colab": {
          "base_uri": "https://localhost:8080/"
        },
        "id": "mG9QmduwTdQA",
        "outputId": "c6ffbe96-0766-4612-87ce-873e01d7e558"
      },
      "execution_count": null,
      "outputs": [
        {
          "output_type": "execute_result",
          "data": {
            "text/plain": [
              "{'cse': ['aa', 'bb', 'cc', 'dd', 'ee']}"
            ]
          },
          "metadata": {},
          "execution_count": 25
        }
      ]
    },
    {
      "cell_type": "code",
      "source": [
        "clg3 = {'cse':['AAA', 'BBB', 'CCC', 'DDD', 'EEE'], 'ece':['AAA', 'BBB', 'CCC', 'DDD', 'EEE']}\n",
        "clg3 #different keys can have same values"
      ],
      "metadata": {
        "colab": {
          "base_uri": "https://localhost:8080/"
        },
        "id": "rTBaMoRRToAL",
        "outputId": "2e28679f-53be-4f54-c394-b1ab23f30e70"
      },
      "execution_count": null,
      "outputs": [
        {
          "output_type": "execute_result",
          "data": {
            "text/plain": [
              "{'cse': ['AAA', 'BBB', 'CCC', 'DDD', 'EEE'],\n",
              " 'ece': ['AAA', 'BBB', 'CCC', 'DDD', 'EEE']}"
            ]
          },
          "metadata": {},
          "execution_count": 26
        }
      ]
    },
    {
      "cell_type": "code",
      "source": [
        "dict1 = {\"country\":\"India\", \"city\":[\"New Delhi\", \"Mumbai\", \"Chennai\", \"Kolkata\"]}\n",
        "dict1"
      ],
      "metadata": {
        "colab": {
          "base_uri": "https://localhost:8080/"
        },
        "id": "Uvl7Ve3PUZQc",
        "outputId": "f3090673-d9bc-4037-8cf4-97de6fb1805d"
      },
      "execution_count": null,
      "outputs": [
        {
          "output_type": "execute_result",
          "data": {
            "text/plain": [
              "{'city': ['New Delhi', 'Mumbai', 'Chennai', 'Kolkata'], 'country': 'India'}"
            ]
          },
          "metadata": {},
          "execution_count": 27
        }
      ]
    },
    {
      "cell_type": "code",
      "source": [
        "dict1 = {\"state\":[\"Karnataka\", \"UP\", \"Maharashtra\"], \"country\":\"India\", \"city\":[\"New Delhi\", \"Mumbai\", \"Chennai\", \"Kolkata\"]}\n",
        "dict1"
      ],
      "metadata": {
        "colab": {
          "base_uri": "https://localhost:8080/"
        },
        "id": "CHGg3BE2U0N3",
        "outputId": "64d455c5-f4e1-482f-c883-e95aac27049a"
      },
      "execution_count": null,
      "outputs": [
        {
          "output_type": "execute_result",
          "data": {
            "text/plain": [
              "{'city': ['New Delhi', 'Mumbai', 'Chennai', 'Kolkata'],\n",
              " 'country': 'India',\n",
              " 'state': ['Karnataka', 'UP', 'Maharashtra']}"
            ]
          },
          "metadata": {},
          "execution_count": 28
        }
      ]
    },
    {
      "cell_type": "code",
      "source": [
        "dict1['city'][1]"
      ],
      "metadata": {
        "colab": {
          "base_uri": "https://localhost:8080/",
          "height": 36
        },
        "id": "OhK6_Ix9VDaz",
        "outputId": "ae9276b2-7808-4b5c-f80e-d6cd622461b0"
      },
      "execution_count": null,
      "outputs": [
        {
          "output_type": "execute_result",
          "data": {
            "text/plain": [
              "'Mumbai'"
            ],
            "application/vnd.google.colaboratory.intrinsic+json": {
              "type": "string"
            }
          },
          "metadata": {},
          "execution_count": 29
        }
      ]
    },
    {
      "cell_type": "code",
      "source": [
        "editors = {'localhost':'jupyter notebook',\n",
        "           'offline':['IDLE', 'Pycharm', 'Vscode', 'Spider', 'Sublime'],\n",
        "           'online':['Google Colaboratory', 'Kaggle']}"
      ],
      "metadata": {
        "id": "T8ScxicBVmRz"
      },
      "execution_count": null,
      "outputs": []
    },
    {
      "cell_type": "code",
      "source": [
        "editors"
      ],
      "metadata": {
        "colab": {
          "base_uri": "https://localhost:8080/"
        },
        "id": "0H2AFkiyW9Dy",
        "outputId": "c5942c6d-2517-45f7-feeb-8a955df22356"
      },
      "execution_count": null,
      "outputs": [
        {
          "output_type": "execute_result",
          "data": {
            "text/plain": [
              "{'localhost': 'jupyter notebook',\n",
              " 'offline': ['IDLE', 'Pycharm', 'Vscode', 'Spider', 'Sublime'],\n",
              " 'online': ['Google Colaboratory', 'Kaggle']}"
            ]
          },
          "metadata": {},
          "execution_count": 36
        }
      ]
    },
    {
      "cell_type": "code",
      "source": [
        "print(editors) #to use in IDE, we wont have cells so we'll have one huge cell and for printing we need to give the print statement rest everything is same"
      ],
      "metadata": {
        "colab": {
          "base_uri": "https://localhost:8080/"
        },
        "id": "spGRnoztXPLi",
        "outputId": "f5978adf-ba7e-447a-9487-62e97cce7cff"
      },
      "execution_count": null,
      "outputs": [
        {
          "output_type": "stream",
          "name": "stdout",
          "text": [
            "{'localhost': 'jupyter notebook', 'offline': ['IDLE', 'Pycharm', 'Vscode', 'Spider', 'Sublime'], 'online': ['Google Colaboratory', 'Kaggle']}\n"
          ]
        }
      ]
    },
    {
      "cell_type": "code",
      "source": [
        "editors.remove('localhost') #DEL works here rather than remove()"
      ],
      "metadata": {
        "colab": {
          "base_uri": "https://localhost:8080/",
          "height": 171
        },
        "id": "FCH9lfEiXQ7F",
        "outputId": "c6364baa-463a-4556-c51e-2a9b32e57295"
      },
      "execution_count": null,
      "outputs": [
        {
          "output_type": "error",
          "ename": "AttributeError",
          "evalue": "ignored",
          "traceback": [
            "\u001b[0;31m---------------------------------------------------------------------------\u001b[0m",
            "\u001b[0;31mAttributeError\u001b[0m                            Traceback (most recent call last)",
            "\u001b[0;32m<ipython-input-41-ad5ff46b7d1e>\u001b[0m in \u001b[0;36m<module>\u001b[0;34m()\u001b[0m\n\u001b[0;32m----> 1\u001b[0;31m \u001b[0meditors\u001b[0m\u001b[0;34m.\u001b[0m\u001b[0mremove\u001b[0m\u001b[0;34m(\u001b[0m\u001b[0;34m'localhost'\u001b[0m\u001b[0;34m)\u001b[0m \u001b[0;31m#DEL works here rather than remove()\u001b[0m\u001b[0;34m\u001b[0m\u001b[0;34m\u001b[0m\u001b[0m\n\u001b[0m",
            "\u001b[0;31mAttributeError\u001b[0m: 'dict' object has no attribute 'remove'"
          ]
        }
      ]
    },
    {
      "cell_type": "code",
      "source": [
        "# LOOPS - runs a block of code repeatedly until the specified condition is met (ont time if loop is executed, we call it iteration)"
      ],
      "metadata": {
        "id": "-PffmNwAXtqm"
      },
      "execution_count": null,
      "outputs": []
    },
    {
      "cell_type": "code",
      "source": [
        "# while, for, do-while, for-each, if-else, break, continue, nested, switch, goto, inner and outer => examples of loops given by students"
      ],
      "metadata": {
        "id": "iaZJCq2IYMqu"
      },
      "execution_count": null,
      "outputs": []
    },
    {
      "cell_type": "code",
      "source": [
        "# Loops in Python to be discussed -\n",
        "# 1. while (break and continue)\n",
        "# 2. for"
      ],
      "metadata": {
        "id": "ls98bujGZDep"
      },
      "execution_count": null,
      "outputs": []
    },
    {
      "cell_type": "code",
      "source": [
        "a = 0 #step-1 INITIALISATION\n",
        "while a<=10: #step-2 CONDITION\n",
        "  print(a) #step-3 STATEMENT\n",
        "  a = a  + 1 #step-4 UPDATION(INCREMENT/DECREMENT)"
      ],
      "metadata": {
        "colab": {
          "base_uri": "https://localhost:8080/"
        },
        "id": "ZvtbR1NEZtne",
        "outputId": "3c04c90a-7208-46e4-a1e2-82073670be86"
      },
      "execution_count": null,
      "outputs": [
        {
          "output_type": "stream",
          "name": "stdout",
          "text": [
            "0\n",
            "1\n",
            "2\n",
            "3\n",
            "4\n",
            "5\n",
            "6\n",
            "7\n",
            "8\n",
            "9\n",
            "10\n"
          ]
        }
      ]
    },
    {
      "cell_type": "code",
      "source": [
        "# post increment - print the statement first then increment the value\n",
        "a = 0\n",
        "while a<=10:\n",
        "  print(a)\n",
        "  a+=1"
      ],
      "metadata": {
        "colab": {
          "base_uri": "https://localhost:8080/"
        },
        "id": "tGqEvbrRaG2d",
        "outputId": "0af04794-5795-4de6-f989-b1a075134050"
      },
      "execution_count": null,
      "outputs": [
        {
          "output_type": "stream",
          "name": "stdout",
          "text": [
            "0\n",
            "1\n",
            "2\n",
            "3\n",
            "4\n",
            "5\n",
            "6\n",
            "7\n",
            "8\n",
            "9\n",
            "10\n"
          ]
        }
      ]
    },
    {
      "cell_type": "code",
      "source": [
        "a = 0\n",
        "while a<=10:\n",
        "  print(a)\n",
        "  a++ #python does not have this in its syntax"
      ],
      "metadata": {
        "colab": {
          "base_uri": "https://localhost:8080/",
          "height": 134
        },
        "id": "NuBizHP2aXNk",
        "outputId": "937296d5-ccde-459d-d57c-1dd19aa00064"
      },
      "execution_count": null,
      "outputs": [
        {
          "output_type": "error",
          "ename": "SyntaxError",
          "evalue": "ignored",
          "traceback": [
            "\u001b[0;36m  File \u001b[0;32m\"<ipython-input-47-de3d74a370ac>\"\u001b[0;36m, line \u001b[0;32m4\u001b[0m\n\u001b[0;31m    a++\u001b[0m\n\u001b[0m       ^\u001b[0m\n\u001b[0;31mSyntaxError\u001b[0m\u001b[0;31m:\u001b[0m invalid syntax\n"
          ]
        }
      ]
    },
    {
      "cell_type": "code",
      "source": [
        "# increment - (post increment, pre increment)\n",
        "# decrement - (post decrement, pre decrement)"
      ],
      "metadata": {
        "id": "T8Diw0RoabA4"
      },
      "execution_count": null,
      "outputs": []
    },
    {
      "cell_type": "code",
      "source": [
        "# pre increment - increment first then print the statement\n",
        "a = 0\n",
        "while a<=10:\n",
        "  a+=1\n",
        "  print(a)"
      ],
      "metadata": {
        "colab": {
          "base_uri": "https://localhost:8080/"
        },
        "id": "0MqK3wY0bHwG",
        "outputId": "8c6219cd-cf29-42c8-f4ba-f84198694769"
      },
      "execution_count": null,
      "outputs": [
        {
          "output_type": "stream",
          "name": "stdout",
          "text": [
            "1\n",
            "2\n",
            "3\n",
            "4\n",
            "5\n",
            "6\n",
            "7\n",
            "8\n",
            "9\n",
            "10\n",
            "11\n"
          ]
        }
      ]
    }
  ]
}