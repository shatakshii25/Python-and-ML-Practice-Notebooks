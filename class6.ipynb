{
  "nbformat": 4,
  "nbformat_minor": 0,
  "metadata": {
    "colab": {
      "name": "class6.ipynb",
      "provenance": [],
      "collapsed_sections": [],
      "authorship_tag": "ABX9TyNbxdrsQ88iknVRwzIEqTIZ",
      "include_colab_link": true
    },
    "kernelspec": {
      "name": "python3",
      "display_name": "Python 3"
    },
    "language_info": {
      "name": "python"
    }
  },
  "cells": [
    {
      "cell_type": "markdown",
      "metadata": {
        "id": "view-in-github",
        "colab_type": "text"
      },
      "source": [
        "<a href=\"https://colab.research.google.com/github/shatakshii25/Python-and-ML-Practice-Notebooks/blob/main/class6.ipynb\" target=\"_parent\"><img src=\"https://colab.research.google.com/assets/colab-badge.svg\" alt=\"Open In Colab\"/></a>"
      ]
    },
    {
      "cell_type": "code",
      "execution_count": null,
      "metadata": {
        "colab": {
          "base_uri": "https://localhost:8080/"
        },
        "id": "szmWqE9xIixM",
        "outputId": "a7973bf5-fdac-4dac-a5ac-6a792fc0fe51"
      },
      "outputs": [
        {
          "output_type": "stream",
          "name": "stdout",
          "text": [
            "0\n",
            "1\n",
            "2\n",
            "3\n",
            "4\n",
            "5\n",
            "6\n",
            "7\n",
            "8\n",
            "9\n",
            "10\n"
          ]
        }
      ],
      "source": [
        "# while loop\n",
        "i=0\n",
        "while i<=10:\n",
        "  print(i)\n",
        "  i+=1"
      ]
    },
    {
      "cell_type": "code",
      "source": [
        "# pre-decrement\n",
        "a = 30\n",
        "while a>=0:\n",
        "  a-=2\n",
        "  print(a)"
      ],
      "metadata": {
        "colab": {
          "base_uri": "https://localhost:8080/"
        },
        "id": "haCbNxzrLoKB",
        "outputId": "db1a9f0c-14f8-4002-9506-109c6619c20a"
      },
      "execution_count": null,
      "outputs": [
        {
          "output_type": "stream",
          "name": "stdout",
          "text": [
            "28\n",
            "26\n",
            "24\n",
            "22\n",
            "20\n",
            "18\n",
            "16\n",
            "14\n",
            "12\n",
            "10\n",
            "8\n",
            "6\n",
            "4\n",
            "2\n",
            "0\n",
            "-2\n"
          ]
        }
      ]
    },
    {
      "cell_type": "code",
      "source": [
        "n = int(input(\"Enter the number: \"))\n",
        "i=1\n",
        "while i<=20:\n",
        "  print(f\"{n} x {i} = \",n*i)\n",
        "  i+=1"
      ],
      "metadata": {
        "colab": {
          "base_uri": "https://localhost:8080/"
        },
        "id": "F3QbfQHCNVnn",
        "outputId": "6451e00d-f598-41b9-ae25-d9ca250e0607"
      },
      "execution_count": null,
      "outputs": [
        {
          "output_type": "stream",
          "name": "stdout",
          "text": [
            "Enter the number: 7\n",
            "7 x 1 =  7\n",
            "7 x 2 =  14\n",
            "7 x 3 =  21\n",
            "7 x 4 =  28\n",
            "7 x 5 =  35\n",
            "7 x 6 =  42\n",
            "7 x 7 =  49\n",
            "7 x 8 =  56\n",
            "7 x 9 =  63\n",
            "7 x 10 =  70\n",
            "7 x 11 =  77\n",
            "7 x 12 =  84\n",
            "7 x 13 =  91\n",
            "7 x 14 =  98\n",
            "7 x 15 =  105\n",
            "7 x 16 =  112\n",
            "7 x 17 =  119\n",
            "7 x 18 =  126\n",
            "7 x 19 =  133\n",
            "7 x 20 =  140\n"
          ]
        }
      ]
    },
    {
      "cell_type": "code",
      "source": [
        "a=1\n",
        "while a<=5:\n",
        "  print(\"python\")\n",
        "  a+=1"
      ],
      "metadata": {
        "colab": {
          "base_uri": "https://localhost:8080/"
        },
        "id": "UXX6PQzFOT_J",
        "outputId": "fd58853f-6e10-4248-a1cf-98867e6aea29"
      },
      "execution_count": null,
      "outputs": [
        {
          "output_type": "stream",
          "name": "stdout",
          "text": [
            "python\n",
            "python\n",
            "python\n",
            "python\n",
            "python\n"
          ]
        }
      ]
    },
    {
      "cell_type": "code",
      "source": [
        "# nested while loop\n",
        "a=1\n",
        "while a<=5:\n",
        "  b=1\n",
        "  print(\"python\")\n",
        "  while b<=1:\n",
        "    print(\"trainings\")\n",
        "    b+=1\n",
        "  a+=1"
      ],
      "metadata": {
        "colab": {
          "base_uri": "https://localhost:8080/"
        },
        "id": "NCLUhrBWPiGr",
        "outputId": "c58de21f-548d-4b51-827f-0f3a873c1993"
      },
      "execution_count": null,
      "outputs": [
        {
          "output_type": "stream",
          "name": "stdout",
          "text": [
            "python\n",
            "trainings\n",
            "python\n",
            "trainings\n",
            "python\n",
            "trainings\n",
            "python\n",
            "trainings\n",
            "python\n",
            "trainings\n"
          ]
        }
      ]
    },
    {
      "cell_type": "code",
      "source": [
        "# nested while loop\n",
        "a=1\n",
        "while a<=5:\n",
        "  b=1\n",
        "  print(\"python\", end=\",\")\n",
        "  while b<=1:\n",
        "    print(\"trainings\")\n",
        "    b+=1\n",
        "  a+=1"
      ],
      "metadata": {
        "colab": {
          "base_uri": "https://localhost:8080/"
        },
        "id": "lPJEhHDZP9zS",
        "outputId": "04d59495-e142-4ffc-d242-034966a95d40"
      },
      "execution_count": null,
      "outputs": [
        {
          "output_type": "stream",
          "name": "stdout",
          "text": [
            "python,trainings\n",
            "python,trainings\n",
            "python,trainings\n",
            "python,trainings\n",
            "python,trainings\n"
          ]
        }
      ]
    },
    {
      "cell_type": "code",
      "source": [
        "# nested while loop\n",
        "a=1\n",
        "while a<=5:\n",
        "  b=1\n",
        "  print(\"python\", end=\",\")\n",
        "  while b<=1:\n",
        "    print(\"trainings\", end=\"; \")\n",
        "    b+=1\n",
        "  a+=1"
      ],
      "metadata": {
        "colab": {
          "base_uri": "https://localhost:8080/"
        },
        "id": "fo_A-YpCRFHn",
        "outputId": "f5925402-c905-4f1e-f63c-af8be0e07006"
      },
      "execution_count": null,
      "outputs": [
        {
          "output_type": "stream",
          "name": "stdout",
          "text": [
            "python,trainings; python,trainings; python,trainings; python,trainings; python,trainings; "
          ]
        }
      ]
    },
    {
      "cell_type": "code",
      "source": [
        "# star pattern\n",
        "i=0\n",
        "while i<=5:\n",
        "  print(i*\"*\")\n",
        "  i+=1"
      ],
      "metadata": {
        "colab": {
          "base_uri": "https://localhost:8080/"
        },
        "id": "wIhtCBPSRVvC",
        "outputId": "058d2b7a-a281-401c-8286-ab45564b494c"
      },
      "execution_count": null,
      "outputs": [
        {
          "output_type": "stream",
          "name": "stdout",
          "text": [
            "\n",
            "*\n",
            "**\n",
            "***\n",
            "****\n",
            "*****\n"
          ]
        }
      ]
    },
    {
      "cell_type": "code",
      "source": [
        "# star pattern\n",
        "i=0\n",
        "while i<=5:\n",
        "  print(i*\" X \")\n",
        "  i+=1"
      ],
      "metadata": {
        "colab": {
          "base_uri": "https://localhost:8080/"
        },
        "id": "ewGW3X1_SZCD",
        "outputId": "a8225f5c-4e86-4488-a991-0c952e871398"
      },
      "execution_count": null,
      "outputs": [
        {
          "output_type": "stream",
          "name": "stdout",
          "text": [
            "\n",
            " X \n",
            " X  X \n",
            " X  X  X \n",
            " X  X  X  X \n",
            " X  X  X  X  X \n"
          ]
        }
      ]
    },
    {
      "cell_type": "code",
      "source": [
        "# star pattern\n",
        "import time #importing the library for sleep function\n",
        "i=0\n",
        "while i<=5:\n",
        "  print(i*\" * \")\n",
        "  time.sleep(5) #delay of 5 seconds\n",
        "  i+=1"
      ],
      "metadata": {
        "colab": {
          "base_uri": "https://localhost:8080/"
        },
        "id": "DRWGX1UwSt-z",
        "outputId": "8df0b1e6-f245-40d2-d36e-0a478cdb68d9"
      },
      "execution_count": null,
      "outputs": [
        {
          "output_type": "stream",
          "name": "stdout",
          "text": [
            "\n",
            " * \n",
            " *  * \n",
            " *  *  * \n",
            " *  *  *  * \n",
            " *  *  *  *  * \n"
          ]
        }
      ]
    },
    {
      "cell_type": "code",
      "source": [
        "# star pattern\n",
        "import time\n",
        "i=5\n",
        "while i>=0:\n",
        "  print(i*\" * \")\n",
        "  time.sleep(1) #delay of 1 second\n",
        "  i-=1"
      ],
      "metadata": {
        "colab": {
          "base_uri": "https://localhost:8080/"
        },
        "id": "S7HOcGAPTMFD",
        "outputId": "2565a069-d0a3-488b-d3b5-943acb60cf3b"
      },
      "execution_count": null,
      "outputs": [
        {
          "output_type": "stream",
          "name": "stdout",
          "text": [
            " *  *  *  *  * \n",
            " *  *  *  * \n",
            " *  *  * \n",
            " *  * \n",
            " * \n",
            "\n"
          ]
        }
      ]
    },
    {
      "cell_type": "code",
      "source": [
        "# break statement - interrupts the execution/terminates the loop even though the condition of the while loop is still true\n",
        "i=0\n",
        "while i<=10:\n",
        "  print(i)\n",
        "  if i==4:\n",
        "    break\n",
        "  i = i+1"
      ],
      "metadata": {
        "colab": {
          "base_uri": "https://localhost:8080/"
        },
        "id": "if27IlN_TkPC",
        "outputId": "387da325-486a-489a-9c9f-5ecb4d0dca05"
      },
      "execution_count": null,
      "outputs": [
        {
          "output_type": "stream",
          "name": "stdout",
          "text": [
            "0\n",
            "1\n",
            "2\n",
            "3\n",
            "4\n"
          ]
        }
      ]
    },
    {
      "cell_type": "code",
      "source": [
        "# continue statement - skips the current iteration and moves to the next iteration\n",
        "a = 0\n",
        "while a<10:\n",
        "  a+=1\n",
        "  if a==5:\n",
        "    continue\n",
        "  print(a)"
      ],
      "metadata": {
        "colab": {
          "base_uri": "https://localhost:8080/"
        },
        "id": "eqPw7zYvUztm",
        "outputId": "2dca9b7b-bb4e-461a-e728-aaea4377e88b"
      },
      "execution_count": null,
      "outputs": [
        {
          "output_type": "stream",
          "name": "stdout",
          "text": [
            "1\n",
            "2\n",
            "3\n",
            "4\n",
            "6\n",
            "7\n",
            "8\n",
            "9\n",
            "10\n"
          ]
        }
      ]
    },
    {
      "cell_type": "code",
      "source": [
        "#  FOR LOOP\n",
        "for i in range(0,10,1): #START-STOP-STEP\n",
        "  print(i)"
      ],
      "metadata": {
        "colab": {
          "base_uri": "https://localhost:8080/"
        },
        "id": "efimy0FDU_Vo",
        "outputId": "f9f32b64-1d7e-45da-dbbf-62871f63d95b"
      },
      "execution_count": null,
      "outputs": [
        {
          "output_type": "stream",
          "name": "stdout",
          "text": [
            "0\n",
            "1\n",
            "2\n",
            "3\n",
            "4\n",
            "5\n",
            "6\n",
            "7\n",
            "8\n",
            "9\n"
          ]
        }
      ]
    },
    {
      "cell_type": "code",
      "source": [
        "for i in range(10): #also gives the same answer as previous one\n",
        "  print(i)"
      ],
      "metadata": {
        "colab": {
          "base_uri": "https://localhost:8080/"
        },
        "id": "CAqwSRLQV4kY",
        "outputId": "9698bf57-8047-4409-a44a-0ba5530d0709"
      },
      "execution_count": null,
      "outputs": [
        {
          "output_type": "stream",
          "name": "stdout",
          "text": [
            "0\n",
            "1\n",
            "2\n",
            "3\n",
            "4\n",
            "5\n",
            "6\n",
            "7\n",
            "8\n",
            "9\n"
          ]
        }
      ]
    },
    {
      "cell_type": "code",
      "source": [
        "for i in range(10): \n",
        "  print(i, end=\"\\t\") #escape sequence"
      ],
      "metadata": {
        "colab": {
          "base_uri": "https://localhost:8080/"
        },
        "id": "yODzega3WLSl",
        "outputId": "933590f6-566a-4e44-ca1d-64e9174150c9"
      },
      "execution_count": null,
      "outputs": [
        {
          "output_type": "stream",
          "name": "stdout",
          "text": [
            "0\t1\t2\t3\t4\t5\t6\t7\t8\t9\t"
          ]
        }
      ]
    },
    {
      "cell_type": "code",
      "source": [
        "for i in range(20,11,-1):\n",
        "  print(i)"
      ],
      "metadata": {
        "colab": {
          "base_uri": "https://localhost:8080/"
        },
        "id": "OtfoiDmTWw04",
        "outputId": "f0e5e292-d5b6-4975-8755-e5cb9ef72749"
      },
      "execution_count": null,
      "outputs": [
        {
          "output_type": "stream",
          "name": "stdout",
          "text": [
            "20\n",
            "19\n",
            "18\n",
            "17\n",
            "16\n",
            "15\n",
            "14\n",
            "13\n",
            "12\n"
          ]
        }
      ]
    },
    {
      "cell_type": "code",
      "source": [
        "# iteration of a string\n",
        "var1 = \"python\"\n",
        "for i in var1:\n",
        "  print(i)"
      ],
      "metadata": {
        "colab": {
          "base_uri": "https://localhost:8080/"
        },
        "id": "POjl97VvW-JJ",
        "outputId": "0e09ae0b-ce76-4b1e-c4b4-ee17034836c6"
      },
      "execution_count": null,
      "outputs": [
        {
          "output_type": "stream",
          "name": "stdout",
          "text": [
            "p\n",
            "y\n",
            "t\n",
            "h\n",
            "o\n",
            "n\n"
          ]
        }
      ]
    },
    {
      "cell_type": "code",
      "source": [
        "# iteration through a string-list\n",
        "var1 =  [\"python\", \"programming\"]\n",
        "for i in var1:\n",
        "  print(i)"
      ],
      "metadata": {
        "colab": {
          "base_uri": "https://localhost:8080/"
        },
        "id": "nZeplcESXYTm",
        "outputId": "dbaf11cb-abf8-4414-9e9b-e2004494a793"
      },
      "execution_count": null,
      "outputs": [
        {
          "output_type": "stream",
          "name": "stdout",
          "text": [
            "python\n",
            "programming\n"
          ]
        }
      ]
    },
    {
      "cell_type": "code",
      "source": [
        "# iteration through a string-tuple\n",
        "var1 =  (\"python\", \"programming\", \"language\", \"on\", \"Google Colab\")\n",
        "for i in var1:\n",
        "  print(i)"
      ],
      "metadata": {
        "colab": {
          "base_uri": "https://localhost:8080/"
        },
        "id": "8nhjSfU3XuqR",
        "outputId": "1b3ee4dd-a3c2-4f97-f364-901994464d48"
      },
      "execution_count": null,
      "outputs": [
        {
          "output_type": "stream",
          "name": "stdout",
          "text": [
            "python\n",
            "programming\n",
            "language\n",
            "on\n",
            "Google Colab\n"
          ]
        }
      ]
    },
    {
      "cell_type": "code",
      "source": [
        "# iteration through a string-set\n",
        "var1 =  {\"python\", \"programming\", \"language\", \"on\", \"Google Colab\"}\n",
        "for i in var1:\n",
        "  print(i)"
      ],
      "metadata": {
        "colab": {
          "base_uri": "https://localhost:8080/"
        },
        "id": "KkaOmFzjYJl9",
        "outputId": "b073d55b-c895-43c8-e6c1-d945e7ec3e3b"
      },
      "execution_count": null,
      "outputs": [
        {
          "output_type": "stream",
          "name": "stdout",
          "text": [
            "Google Colab\n",
            "programming\n",
            "language\n",
            "python\n",
            "on\n"
          ]
        }
      ]
    },
    {
      "cell_type": "code",
      "source": [
        "# iteration through a string-dictionary\n",
        "var1 =  {\"python\": \"programming\", \"language\": \"on\", \"Google\":\" Colab\"}\n",
        "for i in var1:\n",
        "  print(i)"
      ],
      "metadata": {
        "colab": {
          "base_uri": "https://localhost:8080/"
        },
        "id": "U2dvzkhqYP1H",
        "outputId": "32d9243d-e26b-4390-9274-9d3fa79d0a38"
      },
      "execution_count": null,
      "outputs": [
        {
          "output_type": "stream",
          "name": "stdout",
          "text": [
            "python\n",
            "language\n",
            "Google\n"
          ]
        }
      ]
    },
    {
      "cell_type": "code",
      "source": [
        "n = int(input(\"Enter the number : \"))\n",
        "i = 1\n",
        "print(f\"{n} x {i} = {n*i}\")"
      ],
      "metadata": {
        "colab": {
          "base_uri": "https://localhost:8080/"
        },
        "id": "vMTYy0_SYWMb",
        "outputId": "03e97176-74f6-44ac-b60d-475d74d7aec4"
      },
      "execution_count": null,
      "outputs": [
        {
          "output_type": "stream",
          "name": "stdout",
          "text": [
            "Enter the number : 5\n",
            "5 x 1 = 5\n"
          ]
        }
      ]
    },
    {
      "cell_type": "code",
      "source": [
        "n = int(input(\"Enter the number : \"))\n",
        "i = 1\n",
        "for i in range(1,11,1):\n",
        "  print(f\"{n} x {i} = {n*i}\")"
      ],
      "metadata": {
        "colab": {
          "base_uri": "https://localhost:8080/"
        },
        "id": "0R0q9Fk-ZFjm",
        "outputId": "acb30f99-aa63-4c79-da48-e1918d3821da"
      },
      "execution_count": null,
      "outputs": [
        {
          "output_type": "stream",
          "name": "stdout",
          "text": [
            "Enter the number : 5\n",
            "5 x 1 = 5\n",
            "5 x 2 = 10\n",
            "5 x 3 = 15\n",
            "5 x 4 = 20\n",
            "5 x 5 = 25\n",
            "5 x 6 = 30\n",
            "5 x 7 = 35\n",
            "5 x 8 = 40\n",
            "5 x 9 = 45\n",
            "5 x 10 = 50\n"
          ]
        }
      ]
    },
    {
      "cell_type": "code",
      "source": [
        "n = int(input(\"Enter the number : \"))\n",
        "i = 1\n",
        "for i in range(1,11,1):\n",
        "  print(f\"{n} x {i} = {n*i}\")\n",
        "  if i==5:\n",
        "    break"
      ],
      "metadata": {
        "colab": {
          "base_uri": "https://localhost:8080/"
        },
        "id": "BcQJLs3HZOjp",
        "outputId": "ef813d64-276f-4225-a3e9-c25bdb4c4e05"
      },
      "execution_count": null,
      "outputs": [
        {
          "output_type": "stream",
          "name": "stdout",
          "text": [
            "Enter the number : 11\n",
            "11 x 1 = 11\n",
            "11 x 2 = 22\n",
            "11 x 3 = 33\n",
            "11 x 4 = 44\n",
            "11 x 5 = 55\n"
          ]
        }
      ]
    },
    {
      "cell_type": "code",
      "source": [
        "# NESTED FOR LOOP\n",
        "for i in range(7): #printing all the possible outcomes of a dice\n",
        "  for j in range(7):\n",
        "    print(f\"({i},{j})\", end=\" \")"
      ],
      "metadata": {
        "colab": {
          "base_uri": "https://localhost:8080/"
        },
        "id": "3Z_wus9qZhZV",
        "outputId": "a5741f43-6469-4b2f-d11e-f5014f98e3b4"
      },
      "execution_count": null,
      "outputs": [
        {
          "output_type": "stream",
          "name": "stdout",
          "text": [
            "(0,0) (0,1) (0,2) (0,3) (0,4) (0,5) (0,6) (1,0) (1,1) (1,2) (1,3) (1,4) (1,5) (1,6) (2,0) (2,1) (2,2) (2,3) (2,4) (2,5) (2,6) (3,0) (3,1) (3,2) (3,3) (3,4) (3,5) (3,6) (4,0) (4,1) (4,2) (4,3) (4,4) (4,5) (4,6) (5,0) (5,1) (5,2) (5,3) (5,4) (5,5) (5,6) (6,0) (6,1) (6,2) (6,3) (6,4) (6,5) (6,6) "
          ]
        }
      ]
    },
    {
      "cell_type": "code",
      "source": [
        "# coordinates on a graph example\n",
        "for i in range(0,5):\n",
        "  for j in range(0,4):\n",
        "    print((i,j))"
      ],
      "metadata": {
        "colab": {
          "base_uri": "https://localhost:8080/"
        },
        "id": "qxGFZ31HdHwX",
        "outputId": "3e802dca-e5bf-4a7e-d893-435047179c38"
      },
      "execution_count": null,
      "outputs": [
        {
          "output_type": "stream",
          "name": "stdout",
          "text": [
            "(0, 0)\n",
            "(0, 1)\n",
            "(0, 2)\n",
            "(0, 3)\n",
            "(1, 0)\n",
            "(1, 1)\n",
            "(1, 2)\n",
            "(1, 3)\n",
            "(2, 0)\n",
            "(2, 1)\n",
            "(2, 2)\n",
            "(2, 3)\n",
            "(3, 0)\n",
            "(3, 1)\n",
            "(3, 2)\n",
            "(3, 3)\n",
            "(4, 0)\n",
            "(4, 1)\n",
            "(4, 2)\n",
            "(4, 3)\n"
          ]
        }
      ]
    },
    {
      "cell_type": "code",
      "source": [
        "# # FUNCTIONS - Reusable chunks/pieces/Block of code which runs only when it is called \n",
        "# in built functions - print(), input(), max(), min(), sum(), pow()\n",
        "# user defined functions - \n",
        "\n",
        "# def functionName(parameters): FUNCTION DEFINITION\n",
        "#   statements/expressions\n",
        "#   statements/expressions\n",
        "\n",
        "# functionName(values) - function Call"
      ],
      "metadata": {
        "id": "Tz4kwxdXdeWl"
      },
      "execution_count": null,
      "outputs": []
    },
    {
      "cell_type": "code",
      "source": [
        "def my_function():\n",
        "  print(\"Hello shatakshi\")"
      ],
      "metadata": {
        "id": "NeIAjuEkeg7n"
      },
      "execution_count": null,
      "outputs": []
    },
    {
      "cell_type": "code",
      "source": [
        "my_function() #functionCall"
      ],
      "metadata": {
        "colab": {
          "base_uri": "https://localhost:8080/"
        },
        "id": "ofuwuUy5f5iV",
        "outputId": "06c8c04b-d834-43c5-b2c0-481b28847733"
      },
      "execution_count": null,
      "outputs": [
        {
          "output_type": "stream",
          "name": "stdout",
          "text": [
            "Hello shatakshi\n"
          ]
        }
      ]
    },
    {
      "cell_type": "code",
      "source": [
        "def amount():\n",
        "  amnt = int(input(\"enter the amount: \"))\n",
        "  print(\"Entered amount is \", amnt)"
      ],
      "metadata": {
        "id": "1WWRE8Fvf7cY"
      },
      "execution_count": null,
      "outputs": []
    },
    {
      "cell_type": "code",
      "source": [
        "amount()"
      ],
      "metadata": {
        "colab": {
          "base_uri": "https://localhost:8080/"
        },
        "id": "y8HiW1xtgbe-",
        "outputId": "11465fa0-3fe1-4a90-edc9-208528f3061b"
      },
      "execution_count": null,
      "outputs": [
        {
          "output_type": "stream",
          "name": "stdout",
          "text": [
            "enter the amount: 500\n",
            "Entered amount is  500\n"
          ]
        }
      ]
    },
    {
      "cell_type": "code",
      "source": [
        "#  creating a function for addition\n",
        "def add(n1,n2):\n",
        "  result = n1+n2\n",
        "  print(\"sum = \",result)\n",
        "\n",
        "add(7,5)"
      ],
      "metadata": {
        "colab": {
          "base_uri": "https://localhost:8080/"
        },
        "id": "4tAbASGtgdeQ",
        "outputId": "a27c96d1-2f6b-40ad-bee2-3ef2ef706c03"
      },
      "execution_count": null,
      "outputs": [
        {
          "output_type": "stream",
          "name": "stdout",
          "text": [
            "sum =  12\n"
          ]
        }
      ]
    },
    {
      "cell_type": "code",
      "source": [
        "#  creating a function for addition, subtraction, multiplication, division\n",
        "def calc(n1,n2):\n",
        "  print(\"sum = \", n1+n2)\n",
        "  print(\"difference = \", n1-n2)\n",
        "  print(\"product = \", n1*n2)\n",
        "  print(\"quotient = \", n1/n2)\n",
        "\n",
        "calc(7,5)"
      ],
      "metadata": {
        "colab": {
          "base_uri": "https://localhost:8080/"
        },
        "id": "XXGuuOe3g5E3",
        "outputId": "81435147-157f-4ede-e510-08e11f543316"
      },
      "execution_count": null,
      "outputs": [
        {
          "output_type": "stream",
          "name": "stdout",
          "text": [
            "sum =  12\n",
            "difference =  2\n",
            "product =  35\n",
            "quotient =  1.4\n"
          ]
        }
      ]
    },
    {
      "cell_type": "code",
      "source": [
        "# Global and local variables \n",
        "a = 10 \n",
        "def fun1():\n",
        "  a = 5\n",
        "  print(\"Local variable\",a)\n",
        "\n",
        "fun1()\n",
        "print(\"Global variable\",a)"
      ],
      "metadata": {
        "colab": {
          "base_uri": "https://localhost:8080/"
        },
        "id": "cfq1uVvzjjb-",
        "outputId": "f00fcff3-d43d-425b-d2e0-fbaf77003ffa"
      },
      "execution_count": null,
      "outputs": [
        {
          "output_type": "stream",
          "name": "stdout",
          "text": [
            "Local variable 5\n",
            "Global variable 10\n"
          ]
        }
      ]
    },
    {
      "cell_type": "code",
      "source": [
        "# File Handling, Numpy, Matplotlib, Pandas - next class "
      ],
      "metadata": {
        "id": "q-0XFD5LhZip"
      },
      "execution_count": null,
      "outputs": []
    }
  ]
}